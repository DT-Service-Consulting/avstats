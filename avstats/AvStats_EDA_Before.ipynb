{
 "cells": [
  {
   "metadata": {},
   "cell_type": "code",
   "outputs": [],
   "execution_count": null,
   "source": [
    "import seaborn as sns\n",
    "import matplotlib.pyplot as plt\n",
    "from core.EDA.FlightPerformance import FlightPerformance\n",
    "from avstats.core.EDA_utils import *\n",
    "from avstats.core.general_utils import *"
   ],
   "id": "dc31c8416c625e80"
  },
  {
   "metadata": {},
   "cell_type": "code",
   "outputs": [],
   "execution_count": null,
   "source": [
    "# Delay Distribution\n",
    "sns.set_theme(style=\"whitegrid\")\n",
    "plt.figure(figsize=(10, 5))\n",
    "sns.histplot(df['dep_delay'], bins=300, kde=True)\n",
    "plt.title(\"Distribution of Departure Delays\")\n",
    "plt.xlabel(\"Delay (min.)\")\n",
    "plt.ylabel(\"Number of Flights\")\n",
    "plt.xlim(0, 200) \n",
    "plt.show()\n",
    "\n",
    "# Boxplot of the top 10 delays by routes\n",
    "top_routes = df['route_iata_code'].value_counts().nlargest(10).index\n",
    "filtered_df = df[df['route_iata_code'].isin(top_routes)]\n",
    "plt.figure(figsize=(10, 5))\n",
    "sns.boxplot(x='route_iata_code', y='dep_delay', data=filtered_df)\n",
    "plt.title(\"Delays by Top 10 Routes\")\n",
    "plt.grid(axis='y', linestyle='--', alpha=0.7)\n",
    "plt.xticks(rotation=45, fontsize=8)\n",
    "plt.ylim(-200, 500)\n",
    "plt.tight_layout()\n",
    "plt.show()"
   ],
   "id": "d3ab892b171ddda"
  },
  {
   "metadata": {},
   "cell_type": "code",
   "outputs": [],
   "execution_count": null,
   "source": [
    "status_summary = get_status_summary(df) # Get the status summary DataFrame\n",
    "status_summary"
   ],
   "id": "8e2dad49bb55d3bc"
  },
  {
   "metadata": {},
   "cell_type": "code",
   "outputs": [],
   "execution_count": null,
   "source": [
    "# The **proportion** of different **flight statuses** (active, canceled, scheduled, diverted) using a pie chart.\n",
    "status_proportions = status_summary['Proportions (%)']  # Extract status proportions for plotting\n",
    "sns.set_theme(style=\"whitegrid\")\n",
    "plt.figure(figsize=(6, 6))\n",
    "plt.pie(status_proportions, labels=status_summary['Status'], autopct='%1.1f%%', startangle=50)\n",
    "plt.title('Proportion of Different Status Types')\n",
    "plt.show()"
   ],
   "id": "d0152955106ba56d"
  },
  {
   "metadata": {},
   "cell_type": "markdown",
   "source": [
    "#### **2.2. Flight Performance**\n",
    "\n",
    "Visualize the **distribution** of **delayed flights** across the dataset.\n",
    "- Histogram for delayed minutes\n",
    "- Histogram for delayed/not delayed flights"
   ],
   "id": "2fe2a2993a2d472"
  },
  {
   "metadata": {},
   "cell_type": "code",
   "outputs": [],
   "execution_count": null,
   "source": [
    "flight_performance = FlightPerformance(df)\n",
    "percentages = flight_performance.overall_performance() # Calculate overall performance\n",
    "print(\"Overall Flight Performance Percentage\\n\")\n",
    "for label, percent in percentages.items():\n",
    "    print(f\"{label}: {percent:.2f}%\")\n",
    "\n",
    "# Define delay ranges and labels\n",
    "delay_ranges = [\n",
    "    (0, 60, \"0 - 60 minutes\"),\n",
    "    (60, 120, \"60 - 120 minutes\"),\n",
    "    (120, 180, \"120 - 180 minutes\"),\n",
    "    (180, None, \"over 180 minutes\")\n",
    "]\n",
    "\n",
    "delay_percentages = flight_performance.delayed_flight_percentages(delay_ranges) # Calculate and print delay percentages for each range\n",
    "print(\"\\nPercentage of Delayed Flights\\n\")\n",
    "for label, percent in delay_percentages.items():\n",
    "    print(f\"Between {label}: {percent:.2f}%\")"
   ],
   "id": "45ace2f1e7431515"
  },
  {
   "metadata": {},
   "cell_type": "code",
   "outputs": [],
   "execution_count": null,
   "source": [
    "sns.set_theme(style=\"whitegrid\")\n",
    "plt.figure(figsize=(12, 6))\n",
    "\n",
    "plt.subplot(1, 2, 1) # Distribution of dep_delay\n",
    "sns.histplot(df['dep_delay'], bins=100, kde=True)  # kde=True adds a smooth curve\n",
    "plt.title('Distribution of Departure Delays')\n",
    "plt.xlabel('dep_delay (min.)')\n",
    "plt.ylabel('Number of Flights')\n",
    "plt.xlim(0, 200) \n",
    "\n",
    "plt.subplot(1, 2, 2) # Distribution of dep_delay_15 \n",
    "sns.histplot(df['dep_delay_15'], bins=2, kde=False)  # Binary values (0 and 1)\n",
    "plt.title('Distribution of Delayed or Not')\n",
    "plt.xlabel('dep_delay_15 (binary)')\n",
    "plt.ylabel('Number of Flights')\n",
    "plt.xticks(ticks=[0, 1], labels=['Not Delayed (<15 min.)', 'Delayed (>15 min.)'])\n",
    "\n",
    "plt.tight_layout()\n",
    "plt.show()"
   ],
   "id": "4627a3488db1e639"
  },
  {
   "metadata": {},
   "cell_type": "markdown",
   "source": [
    "#### **2.3. Time window**\n",
    "Understand how flight schedules (departure time sdt and arrival time sat) influence **delays** across different **time windows** (morning, afternoon, night)"
   ],
   "id": "c0382b48a6370700"
  },
  {
   "metadata": {},
   "cell_type": "code",
   "outputs": [],
   "execution_count": null,
   "source": [
    "dep_flight_summary = flight_summary_by_time_window(df, 'dep_time_window', summarize_delays=True)\n",
    "arr_flight_summary = flight_summary_by_time_window(df, 'arr_time_window', summarize_delays=True)\n",
    "time_window_proportions = calculate_time_window_percentages(df)\n",
    "time_window_proportions"
   ],
   "id": "84e2b22765988013"
  },
  {
   "metadata": {},
   "cell_type": "code",
   "outputs": [],
   "execution_count": null,
   "source": "dep_flight_summary",
   "id": "686db70f95fbb46b"
  },
  {
   "metadata": {},
   "cell_type": "code",
   "outputs": [],
   "execution_count": null,
   "source": "arr_flight_summary",
   "id": "9aaefe7eb5df40f1"
  },
  {
   "metadata": {},
   "cell_type": "code",
   "outputs": [],
   "execution_count": null,
   "source": [
    "# New df for the bar plots\n",
    "dep_bar_data = pd.melt(dep_flight_summary, id_vars='dep_time_window', value_vars=['delayed_flights', 'total_flights'],var_name='flight_type', value_name='count')\n",
    "arr_bar_data = pd.melt(arr_flight_summary, id_vars='arr_time_window', value_vars=['delayed_flights', 'total_flights'],var_name='flight_type', value_name='count')\n",
    "\n",
    "# Shift left for delayed flights and right for total flights\n",
    "dep_bar_data['position'] = dep_bar_data['flight_type'].map({'delayed_flights': -0.2, 'total_flights': 0.2})\n",
    "arr_bar_data['position'] = arr_bar_data['flight_type'].map({'delayed_flights': -0.2, 'total_flights': 0.2})\n",
    "\n",
    "# Plot for Total and Delayed Arrival Flights\n",
    "plt.figure(figsize=(10, 6))\n",
    "ax=sns.barplot(data=dep_bar_data, x='dep_time_window', y='count', hue='flight_type', dodge=True, palette=['#35b779', '#31688e'])\n",
    "for index, row in dep_flight_summary.iterrows():\n",
    "    if row['delayed_flights'] > 0:  # Only display if there are delayed flights\n",
    "        ax.text(index, row['delayed_flights'], f\"{row['dep_time_window_percentage_delayed']}\", color='black', ha='right', va='bottom', fontsize=12)\n",
    "plt.title('Total and Delayed Flights by Departure Time Window')\n",
    "plt.ylabel('Number of Flights')\n",
    "plt.xlabel('Departure Time Window')\n",
    "plt.xticks(rotation=45)\n",
    "plt.legend(title='Flight Type', labels=['Delayed Flights', 'Total Flights'])\n",
    "plt.show()\n",
    "\n",
    "# Plot for Total and Delayed Departure Flights\n",
    "plt.figure(figsize=(10, 6))\n",
    "bx=sns.barplot(data=arr_bar_data, x='arr_time_window', y='count', hue='flight_type', dodge=True, palette=['#35b779', '#31688e'])\n",
    "for index, row in arr_flight_summary.iterrows():\n",
    "    if row['delayed_flights'] > 0:  # Only display if there are delayed flights\n",
    "        bx.text(index, row['delayed_flights'], f\"{row['arr_time_window_percentage_delayed']}\", color='black', ha='right', va='bottom', fontsize=12)\n",
    "plt.title('Total and Arrival Flights by Departure Time Window')\n",
    "plt.ylabel('Number of Flights')\n",
    "plt.xlabel('Arrival Time Window')\n",
    "plt.xticks(rotation=45)\n",
    "plt.legend(title='Flight Type', labels=['Delayed Flights', 'Total Flights'])\n",
    "plt.show()"
   ],
   "id": "cfdea4d397e56792"
  },
  {
   "metadata": {},
   "cell_type": "markdown",
   "source": [
    "#### **2.4. Flight Category Comparison**\n",
    "Comparison of the **on-time performance** of cargo, private, & commercial flights and the **distribution** of delay times within them."
   ],
   "id": "f670284a4b3006c5"
  },
  {
   "metadata": {},
   "cell_type": "code",
   "outputs": [],
   "execution_count": null,
   "source": [
    "on_time_performance = calculate_on_time_performance(df)\n",
    "flight_percentages = calculate_flight_percentages(df)\n",
    "\n",
    "# Combine both DataFrames\n",
    "combined_performance = pd.merge(on_time_performance, flight_percentages, on='Flight Category', how='left')\n",
    "combined_performance"
   ],
   "id": "cb8de16ba0a42f6c"
  },
  {
   "metadata": {},
   "cell_type": "code",
   "outputs": [],
   "execution_count": null,
   "source": [
    "sns.set_theme(style=\"whitegrid\")\n",
    "plt.figure(figsize=(10, 6))\n",
    "sns.histplot(data=df, x='dep_delay', hue='flight_cat', kde=True, bins=50)\n",
    "plt.xlim(0, 300)  # 300 minutes for better visualization\n",
    "plt.title('Distribution of Departure Delays by Flight Category')\n",
    "plt.xlabel('Departure Delay (minutes)')\n",
    "plt.ylabel('Number of flights')\n",
    "plt.show()"
   ],
   "id": "3e97067912d8a63e"
  },
  {
   "metadata": {},
   "cell_type": "markdown",
   "source": [
    "#### **2.5. Airline Delays**\n",
    "The total volume of flights and the percentage of delayed flights by airlines."
   ],
   "id": "f73ba7ed9dc23331"
  },
  {
   "metadata": {},
   "cell_type": "code",
   "outputs": [],
   "execution_count": null,
   "source": [
    "# Total volume of flights by airline\n",
    "total_flights_airline = df.groupby('airline_name')['uuid'].count().reset_index()\n",
    "total_flights_airline.columns = ['airline_name', 'total_flights']\n",
    "\n",
    "# Delayed flights by airline\n",
    "delayed_flights_airline = df[df['dep_delay_15'] == 1].groupby('airline_name')['uuid'].count().reset_index()\n",
    "delayed_flights_airline.columns = ['airline_name', 'delayed_flights']\n",
    "\n",
    "# Percentage of delayed flights\n",
    "flights_summary = pd.merge(total_flights_airline, delayed_flights_airline, on='airline_name', how='left')\n",
    "flights_summary['delayed_flights'] = flights_summary['delayed_flights'].fillna(0).astype(int)  # Handling NaNs\n",
    "flights_summary['percent_delayed(%)'] = ((flights_summary['delayed_flights'] / flights_summary['total_flights']) * 100).round(2)\n",
    "\n",
    "sorted_flights_summary = flights_summary.sort_values(by='percent_delayed(%)', ascending=False)\n",
    "\n",
    "sns.set_theme(style=\"whitegrid\")\n",
    "plt.figure(figsize=(20,7))\n",
    "plt.bar(sorted_flights_summary['airline_name'], sorted_flights_summary['percent_delayed(%)'], color='skyblue')\n",
    "plt.xticks(rotation=90, fontsize=4)\n",
    "plt.xlabel('Airline')\n",
    "plt.ylabel('Percentage of Delayed Flights (%)')\n",
    "plt.title('Percentage of Delayed Flights by Airline')\n",
    "plt.tight_layout()\n",
    "plt.show()"
   ],
   "id": "12ed883fc6fed582"
  },
  {
   "metadata": {},
   "cell_type": "markdown",
   "source": [
    "#### **2.6. Frequent Routes and Airports**\n",
    "Routes and airports in Brussels with the highest percentage of delays."
   ],
   "id": "a73dcdf059ad897f"
  },
  {
   "metadata": {},
   "cell_type": "code",
   "outputs": [],
   "execution_count": null,
   "source": [
    "# Calculate and print average delays\n",
    "average_delay_sorted = calculate_average_delay(df)\n",
    "print(average_delay_sorted.head())\n",
    "\n",
    "top_delays = average_delay_sorted.head(10) # Plot the top 10 average delays\n",
    "plt.figure(figsize=(10, 6))\n",
    "sns.barplot(x='average_dep_delay', y='route_iata_code', hue='airline_name', data=top_delays, dodge=False)\n",
    "plt.title('Top Average Delays by Route and Airline')\n",
    "plt.xlabel('Average Delay (min.)')\n",
    "plt.ylabel('Route IATA Code')\n",
    "plt.show()"
   ],
   "id": "ea49bf372796d3ff"
  },
  {
   "metadata": {},
   "cell_type": "markdown",
   "source": [
    "#### **2.8. EDA Conclusions**\n",
    "\n",
    "1. Most of the flights in the dataset are delayed. **Delayed Flights: 61.97%**\n",
    "2. Most of the delays happen within the first hour. **Between 0 - 60 minutes: 88.05%**\n",
    "3. Top 10 airline & route delays\n",
    "4. Most flights are scheduled to depart in the morning. **Departure (Morning): 50.35%**\n",
    "5. Most flights are scheduled to arrive in the morning. **Arrival (Morning): 40.07%**\n",
    "6. The delay within departure flights throughout the day is similar\n",
    "    * **Afternoon: 63.31%** (of the flights are delayed)\n",
    "    * Evening: 62.15% \n",
    "    * Morning: 61.07% \n",
    "7. The delay within arrival flights throughout the day is similar\n",
    "    * **Afternoon: 65.06%** (of the flights are delayed)\n",
    "    * Evening: 62.5%\n",
    "    * Morning: 58.08%\n",
    "8. Most of the flights are commercial. **Commercial Flights: 92.81%**\n",
    "9. The delay within departure flight throughout the day is similar\n",
    "    * Cargo: 31.7%  (of the flights are delayed)\n",
    "    * Commercial: 34.62%\n",
    "    * **Private: 38.47%**\n",
    "10. Most of the flights in the dataset are active. **Active flights: 51.04%**"
   ],
   "id": "a923701fc9f9097d"
  },
  {
   "metadata": {},
   "cell_type": "code",
   "outputs": [],
   "execution_count": null,
   "source": "",
   "id": "46c26aa39e093f79"
  },
  {
   "metadata": {},
   "cell_type": "code",
   "outputs": [],
   "execution_count": null,
   "source": "",
   "id": "f19201101e294db"
  }
 ],
 "metadata": {
  "kernelspec": {
   "display_name": "Python 3",
   "language": "python",
   "name": "python3"
  },
  "language_info": {
   "codemirror_mode": {
    "name": "ipython",
    "version": 2
   },
   "file_extension": ".py",
   "mimetype": "text/x-python",
   "name": "python",
   "nbconvert_exporter": "python",
   "pygments_lexer": "ipython2",
   "version": "2.7.6"
  }
 },
 "nbformat": 4,
 "nbformat_minor": 5
}
