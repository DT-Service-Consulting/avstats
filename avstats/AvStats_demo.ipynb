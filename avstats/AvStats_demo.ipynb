{
 "cells": [
  {
   "cell_type": "markdown",
   "id": "bc8dd47a-1c8c-4ad2-9713-ff41d2f9ef05",
   "metadata": {},
   "source": [
    "# **AvStats - Flight Delay Forecast**\n",
    "\n",
    "*Iraia Torres, October 2024*"
   ]
  },
  {
   "cell_type": "markdown",
   "id": "029c64a5-de5d-485c-8b7f-04bf49fa266a",
   "metadata": {
    "jp-MarkdownHeadingCollapsed": true
   },
   "source": [
    "## **1. Data Acquisition**\n",
    "Load the CSV file turn it into a dataframe"
   ]
  },
  {
   "cell_type": "code",
   "id": "88c104cc-6e8d-47cc-87d5-9ab93df12d0f",
   "metadata": {
    "ExecuteTime": {
     "end_time": "2024-10-16T13:38:22.469940Z",
     "start_time": "2024-10-16T13:38:22.267304Z"
    }
   },
   "source": [
    "from data_loader import DataLoader\n",
    "from classes import NewFeatures, FlightPerformance, AirlineDelays\n",
    "import pandas as pd\n",
    "import seaborn as sns\n",
    "import matplotlib.pyplot as plt\n",
    "import scipy.stats as stats\n",
    "import statsmodels.api as sm\n",
    "from statsmodels.stats.outliers_influence import variance_inflation_factor\n",
    "from statsmodels.stats.stattools import durbin_watson"
   ],
   "outputs": [],
   "execution_count": 1
  },
  {
   "metadata": {
    "ExecuteTime": {
     "end_time": "2024-10-16T13:38:22.477182Z",
     "start_time": "2024-10-16T13:38:22.471282Z"
    }
   },
   "cell_type": "code",
   "source": [
    "from avstats.config import DATA_DIR\n",
    "DATA_DIR"
   ],
   "id": "25fe5020aa65ed0b",
   "outputs": [
    {
     "data": {
      "text/plain": [
       "PosixPath('/Users/marco/Work-MBP/avstats/data')"
      ]
     },
     "execution_count": 2,
     "metadata": {},
     "output_type": "execute_result"
    }
   ],
   "execution_count": 2
  },
  {
   "cell_type": "code",
   "id": "7c386b79-17bb-43b5-ac0b-775bd9500d56",
   "metadata": {
    "ExecuteTime": {
     "end_time": "2024-10-16T13:38:22.581518Z",
     "start_time": "2024-10-16T13:38:22.478858Z"
    }
   },
   "source": [
    "loader = DataLoader()\n",
    "df = loader.dataframe\n",
    "df.head()"
   ],
   "outputs": [
    {
     "name": "stdout",
     "output_type": "stream",
     "text": [
      "Error loading data: [Errno 2] No such file or directory: 'C:\\\\4.DTSC_Programs\\\\4.TransStatsData\\\\AvStats\\\\avStats_schedule_historical_2023_BRU.csv'\n"
     ]
    },
    {
     "ename": "AttributeError",
     "evalue": "'NoneType' object has no attribute 'head'",
     "output_type": "error",
     "traceback": [
      "\u001B[0;31m---------------------------------------------------------------------------\u001B[0m",
      "\u001B[0;31mAttributeError\u001B[0m                            Traceback (most recent call last)",
      "Cell \u001B[0;32mIn[3], line 3\u001B[0m\n\u001B[1;32m      1\u001B[0m loader \u001B[38;5;241m=\u001B[39m DataLoader()\n\u001B[1;32m      2\u001B[0m df \u001B[38;5;241m=\u001B[39m loader\u001B[38;5;241m.\u001B[39mdataframe\n\u001B[0;32m----> 3\u001B[0m \u001B[43mdf\u001B[49m\u001B[38;5;241;43m.\u001B[39;49m\u001B[43mhead\u001B[49m()\n",
      "\u001B[0;31mAttributeError\u001B[0m: 'NoneType' object has no attribute 'head'"
     ]
    }
   ],
   "execution_count": 3
  },
  {
   "cell_type": "markdown",
   "id": "56291c8f-da16-4d49-a662-8d207e6846b4",
   "metadata": {},
   "source": [
    "## **2. Data Cleaning & Processing**\n",
    "* Check for duplicates\n",
    "* Handle missing values\n",
    "* Create new features"
   ]
  },
  {
   "cell_type": "markdown",
   "id": "380e9464-9e6b-478e-be8f-4cf6ff04757d",
   "metadata": {
    "jp-MarkdownHeadingCollapsed": true
   },
   "source": [
    "### **2.1. Duplicates & Missing Values**\n",
    "These are the changes made to fill out all the missing values in the dataset.\n",
    "* Delay minutes NaN -> 0\n",
    "* Actual departure time (adt) NaN -> Calculate it based on scheduled departure time (sdt) and delay minutes\n",
    "* Actual arrival time (aat) NaN -> Calculate it based on scheduled arrival time (sat) and delay minutes\n",
    "* When private flight -> Airline code and flight number as NONE\n",
    "* Calculate the NaN values for both the calculated scheduled and actual flight time\n"
   ]
  },
  {
   "cell_type": "code",
   "id": "e2ae24da-db78-47cb-a3af-d0424b314097",
   "metadata": {
    "ExecuteTime": {
     "end_time": "2024-10-16T13:38:22.583012Z",
     "start_time": "2024-10-16T13:38:22.582966Z"
    }
   },
   "source": [
    "# Check for missing values & duplicate rows based on uuid\n",
    "missing_values = df.isna().sum().sum()\n",
    "duplicate_rows = df[df.duplicated(subset='uuid', keep=False)]\n",
    "print(f\"Number of total duplicated rows: {len(duplicate_rows)}\")\n",
    "print(f\"Number of total missing values: {missing_values}\")\n",
    "df.isnull().sum()"
   ],
   "outputs": [],
   "execution_count": null
  },
  {
   "cell_type": "code",
   "id": "0d539fb7-8532-40e8-92d0-9a10921772a9",
   "metadata": {},
   "source": [
    "df.fillna({'dep_delay': 0}, inplace=True) # Missing values with 0 when the flight is not delayed\n",
    "\n",
    "# Convert to datetime\n",
    "datetime_columns = ['sat', 'sdt', 'aat', 'adt']\n",
    "for col in datetime_columns:\n",
    "    df[col] = pd.to_datetime(df[col])\n",
    "\n",
    "# Fill missing 'adt' and 'aat' values based on their corresponding scheduled times and delays\n",
    "df['adt'] = df['adt'].fillna(df['sdt'] + pd.to_timedelta(df['dep_delay'], unit='m'))\n",
    "df['aat'] = df['aat'].fillna(df['sat'] + pd.to_timedelta(df['dep_delay'], unit='m'))\n",
    "df['calc_sft'] = df['calc_sft'].fillna((df['sat'] - df['sdt']) / pd.Timedelta(minutes=1))\n",
    "df['calc_aft'] = df['calc_aft'].fillna((df['aat'] - df['adt']) / pd.Timedelta(minutes=1))\n",
    "\n",
    "df.fillna({'airline_iata_code': 'NONE', 'flight_iata_number': 'NONE'}, inplace=True) # Missing airline and flight information with 'NONE'\n",
    "df.head(7)"
   ],
   "outputs": [],
   "execution_count": null
  },
  {
   "cell_type": "code",
   "id": "fd835950-20a1-4d6f-b71c-5996f76d9d26",
   "metadata": {},
   "source": [
    "print(df.isna().sum().sum()) # Prints amount of missing values"
   ],
   "outputs": [],
   "execution_count": null
  },
  {
   "cell_type": "markdown",
   "id": "f0e80304-c21f-4a13-ba55-a8e8d81ea885",
   "metadata": {
    "jp-MarkdownHeadingCollapsed": true
   },
   "source": [
    "### **2.2. New Features**\n",
    "Binary column for delays (New column **dep_delay_15**)\n",
    "* Categorizes flights as delayed (1) and not delayed (0)\n",
    "* Its considered as a delayed flight when its > 15 minutes delayed\n",
    "\n",
    "Categorize delays (New column **dep_delay_cat**)\n",
    "* Short (under 15 minutes)\n",
    "* Medium (15-60 minutes)\n",
    "* Long (over 60 minutes)\n",
    "\n",
    "Flight category (New column **flight_cat**)\n",
    "* Cargo\n",
    "* Commercial\n",
    "* Private\n",
    "\n",
    "Set dep & arr times into time windows (New column **dep_time_window & arr_time_window**)\n",
    "* Morning (00:00 to 11:59)\n",
    "* Afternoon (12:00 to 17:59)\n",
    "* Night (18:00 to 23:59)"
   ]
  },
  {
   "cell_type": "code",
   "id": "d733cf81-6098-4d5a-b93e-87e93282485a",
   "metadata": {},
   "source": [
    "# New column dep_delay_15\n",
    "df.loc[:, 'dep_delay_15'] = (df['dep_delay'] > 15).astype(int)\n",
    "cols = list(df.columns) # Get the current list of columns\n",
    "dep_delay_index = cols.index('dep_delay') # Find the index of dep_delay\n",
    "cols.insert(dep_delay_index + 1, cols.pop(cols.index('dep_delay_15'))) # Move dep_delay_15 next to dep_delay\n",
    "df = df[cols].copy() # Column rearrangement with .copy() to avoid SettingWithCopyWarning\n",
    "\n",
    "# New column dep_delay_cat\n",
    "df.loc[:, 'dep_delay_cat'] = pd.cut(df['dep_delay'], bins=[-float('inf'), 15, 60, float('inf')], labels=['Short', 'Medium', 'Long'])\n",
    "cols = list(df.columns)\n",
    "dep_delay_15_index = cols.index('dep_delay_15')\n",
    "cols.insert(dep_delay_15_index + 1, cols.pop(cols.index('dep_delay_cat'))) \n",
    "df = df[cols].copy()  # Again, make sure to create a copy\n",
    "\n",
    "# New column flight_cat using the Flight class's categorize_flight method\n",
    "def categorize_flight(row):\n",
    "    flight = NewFeatures(uuid=row['uuid'], dep_delay=row['dep_delay'], sdt=row['sdt'], sat=row['sat'], cargo=row['cargo'], private=row['private'])\n",
    "    return flight.categorize_flight()\n",
    "\n",
    "df.loc[:, 'flight_cat'] = df.apply(categorize_flight, axis=1)\n",
    "\n",
    "# New column dep_time_window & arr_time_window using the Flight class's get_time_window method\n",
    "def get_time_window_for_flight(row, time_type='departure'):\n",
    "    flight = NewFeatures(uuid=row['uuid'], dep_delay=row['dep_delay'], sdt=row['sdt'], sat=row['sat'], cargo=row['cargo'], private=row['private'])\n",
    "    return flight.get_time_window(time_type)\n",
    "\n",
    "# Add new columns for departure and arrival time windows\n",
    "df['dep_time_window'] = df.apply(lambda row: get_time_window_for_flight(row, 'departure'), axis=1)\n",
    "df['arr_time_window'] = df.apply(lambda row: get_time_window_for_flight(row, 'arrival'), axis=1)\n",
    "\n",
    "# Create a new column for on-time flights\n",
    "df.loc[:, 'on_time_15'] = df['dep_delay'].map(lambda x: 1 if x < 15 else 0)\n",
    "\n",
    "df.head()"
   ],
   "outputs": [],
   "execution_count": null
  },
  {
   "cell_type": "markdown",
   "id": "4e537a3c-625c-4c40-8f23-391a442ed1ec",
   "metadata": {},
   "source": [
    "## **3. Exploratory Data Analysis (EDA)**\n",
    "* Flight Status\n",
    "* Flight Performance\n",
    "* Time Window\n",
    "* Flight Category Comparison\n",
    "* Airline Delays\n",
    "* Frequent Routes and Airports\n",
    "* Normality test"
   ]
  },
  {
   "cell_type": "markdown",
   "id": "54f77a35-4d50-4d64-8e4b-30df2b1fc65a",
   "metadata": {
    "jp-MarkdownHeadingCollapsed": true
   },
   "source": [
    "### **3.1. Flight Status**\n",
    "The **proportion** of different **flight statuses** (active, canceled, scheduled, diverted) using a pie chart."
   ]
  },
  {
   "cell_type": "code",
   "id": "ed4cdbe5-c4cd-43ef-86f6-4c5c5241d8b6",
   "metadata": {},
   "source": [
    "flight_performance = FlightPerformance(df) # Create an instance of FlightAnalysis\n",
    "status_df = flight_performance.get_status_summary() # Get the status summary DataFrame\n",
    "status_df"
   ],
   "outputs": [],
   "execution_count": null
  },
  {
   "cell_type": "code",
   "id": "e5f69919-652d-441e-b6fb-c02ba0fa7320",
   "metadata": {},
   "source": [
    "status_summary = flight_performance.get_status_summary()\n",
    "status_proportions = status_summary['Proportions (%)']  # Extract status proportions for plotting\n",
    "\n",
    "sns.set(style=\"whitegrid\")\n",
    "plt.figure(figsize=(6, 6))\n",
    "plt.pie(status_proportions, labels=status_summary['Status'], autopct='%1.1f%%', startangle=50)\n",
    "plt.title('Proportion of Different Status Types')\n",
    "plt.show()"
   ],
   "outputs": [],
   "execution_count": null
  },
  {
   "cell_type": "markdown",
   "id": "2ef9c8df-e632-462e-9b04-976372facb48",
   "metadata": {
    "jp-MarkdownHeadingCollapsed": true
   },
   "source": [
    "### **3.2. Flight Performance**\n",
    "\n",
    "Visualize the **distribution** of **delayed flights** across the dataset.\n",
    "- Histogram for delayed minutes\n",
    "- Histogram for delayed/not delayed flights"
   ]
  },
  {
   "cell_type": "code",
   "id": "61496e0a-1810-438f-a629-0d2cc7495a37",
   "metadata": {},
   "source": [
    "percentages = flight_performance.overall_performance() # Calculate overall performance\n",
    "print(\"Overall Flight Performance Percentage\\n\")\n",
    "for label, percent in percentages.items():\n",
    "    print(f\"{label}: {percent:.2f}%\")\n",
    "\n",
    "# Define delay ranges and labels\n",
    "delay_ranges = [\n",
    "    (0, 60, \"0 - 60 minutes\"),\n",
    "    (60, 120, \"60 - 120 minutes\"),\n",
    "    (120, 180, \"120 - 180 minutes\"),\n",
    "    (180, None, \"over 180 minutes\")\n",
    "]\n",
    "\n",
    "delay_percentages = flight_performance.delayed_flight_percentages(delay_ranges) # Calculate and print delay percentages for each range\n",
    "print(\"\\nPercentage of Delayed Flights\\n\")\n",
    "for label, percent in delay_percentages.items():\n",
    "    print(f\"Between {label}: {percent:.2f}%\")"
   ],
   "outputs": [],
   "execution_count": null
  },
  {
   "cell_type": "code",
   "id": "a991a063-b2c0-4c9e-87ee-10a27bd01337",
   "metadata": {},
   "source": [
    "sns.set(style=\"whitegrid\")\n",
    "plt.figure(figsize=(12, 6))\n",
    "\n",
    "plt.subplot(1, 2, 1) # Distribution of dep_delay\n",
    "sns.histplot(df['dep_delay'], bins=30, kde=True)  # kde=True adds a smooth curve\n",
    "plt.title('Distribution of Departure Delays')\n",
    "plt.xlabel('dep_delay (min.)')\n",
    "plt.ylabel('Number of Flights')\n",
    "plt.xlim(0, 200) \n",
    "\n",
    "plt.subplot(1, 2, 2) # Distribution of dep_delay_15 \n",
    "sns.histplot(df['dep_delay_15'], bins=2, kde=False)  # Binary values (0 and 1)\n",
    "plt.title('Distribution of Delayed or Not')\n",
    "plt.xlabel('dep_delay_15 (binary)')\n",
    "plt.ylabel('Number of Flights')\n",
    "plt.xticks(ticks=[0, 1], labels=['Not Delayed (<15 min.)', 'Delayed (>15 min.)'])\n",
    "\n",
    "plt.tight_layout()\n",
    "plt.show()"
   ],
   "outputs": [],
   "execution_count": null
  },
  {
   "cell_type": "markdown",
   "id": "c0a06259-5caa-41fe-acbc-c146c0350ed1",
   "metadata": {
    "jp-MarkdownHeadingCollapsed": true
   },
   "source": [
    "### **3.3. Time window**\n",
    "Understand how flight schedules (departure time sdt and arrival time sat) influence **delays** across different **time windows** (morning, afternoon, night)"
   ]
  },
  {
   "cell_type": "code",
   "id": "133a6032-069d-4a60-af16-3cf8235a797f",
   "metadata": {},
   "source": [
    "dep_flight_summary = flight_performance.flight_summary_by_time_window('dep_time_window', summarize_delays=True)\n",
    "time_window_proportions = flight_performance.calculate_time_window_percentages()\n",
    "time_window_proportions"
   ],
   "outputs": [],
   "execution_count": null
  },
  {
   "cell_type": "code",
   "id": "9574449a-d56c-4f6b-a5ea-a995d1389044",
   "metadata": {},
   "source": [
    "dep_flight_summary = flight_performance.flight_summary_by_time_window('dep_time_window', summarize_delays=True)\n",
    "arr_flight_summary = flight_performance.flight_summary_by_time_window('arr_time_window', summarize_delays=True)\n",
    "dep_flight_summary"
   ],
   "outputs": [],
   "execution_count": null
  },
  {
   "cell_type": "code",
   "id": "955b1161-9044-470b-967a-143e4c455e72",
   "metadata": {},
   "source": [
    "arr_flight_summary"
   ],
   "outputs": [],
   "execution_count": null
  },
  {
   "cell_type": "code",
   "id": "05a54a04-2c72-4747-af1b-4780731ffd6c",
   "metadata": {},
   "source": [
    "# New df for the bar plots\n",
    "dep_bar_data = pd.melt(dep_flight_summary, id_vars='dep_time_window', value_vars=['delayed_flights', 'total_flights'],var_name='flight_type', value_name='count')\n",
    "arr_bar_data = pd.melt(arr_flight_summary, id_vars='arr_time_window', value_vars=['delayed_flights', 'total_flights'],var_name='flight_type', value_name='count')\n",
    "\n",
    "# Shift left for delayed flights and right for total flights\n",
    "dep_bar_data['position'] = dep_bar_data['flight_type'].map({'delayed_flights': -0.2, 'total_flights': 0.2})\n",
    "arr_bar_data['position'] = arr_bar_data['flight_type'].map({'delayed_flights': -0.2, 'total_flights': 0.2})\n",
    "\n",
    "# Plot for Total and Delayed Arrival Flights\n",
    "plt.figure(figsize=(10, 6))\n",
    "ax=sns.barplot(data=dep_bar_data, x='dep_time_window', y='count', hue='flight_type', dodge=True, palette=['#35b779', '#31688e'])\n",
    "for index, row in dep_flight_summary.iterrows():\n",
    "    if row['delayed_flights'] > 0:  # Only display if there are delayed flights\n",
    "        ax.text(index, row['delayed_flights'], f\"{row['dep_time_window_percentage_delayed']}\", color='black', ha='right', va='bottom', fontsize=12)\n",
    "plt.title('Total and Delayed Flights by Departure Time Window')\n",
    "plt.ylabel('Number of Flights')\n",
    "plt.xlabel('Departure Time Window')\n",
    "plt.xticks(rotation=45)\n",
    "plt.legend(title='Flight Type', labels=['Delayed Flights', 'Total Flights'])\n",
    "plt.show()\n",
    "\n",
    "# Plot for Total and Delayed Departure Flights\n",
    "plt.figure(figsize=(10, 6))\n",
    "bx=sns.barplot(data=arr_bar_data, x='arr_time_window', y='count', hue='flight_type', dodge=True, palette=['#35b779', '#31688e'])\n",
    "for index, row in arr_flight_summary.iterrows():\n",
    "    if row['delayed_flights'] > 0:  # Only display if there are delayed flights\n",
    "        bx.text(index, row['delayed_flights'], f\"{row['arr_time_window_percentage_delayed']}\", color='black', ha='right', va='bottom', fontsize=12)\n",
    "plt.title('Total and Arrival Flights by Departure Time Window')\n",
    "plt.ylabel('Number of Flights')\n",
    "plt.xlabel('Arrival Time Window')\n",
    "plt.xticks(rotation=45)\n",
    "plt.legend(title='Flight Type', labels=['Delayed Flights', 'Total Flights'])\n",
    "plt.show()"
   ],
   "outputs": [],
   "execution_count": null
  },
  {
   "cell_type": "markdown",
   "id": "c54bde94-8b81-4f6b-ac19-ad7017b62fcc",
   "metadata": {
    "jp-MarkdownHeadingCollapsed": true
   },
   "source": [
    "### **3.4. Flight Category Comparison**\n",
    "Comparison of the **on-time performance** of cargo, private, & commercial flights and the **distribution** of delay times within them."
   ]
  },
  {
   "cell_type": "code",
   "id": "e1c846f3-1bb7-4749-971e-c74bf3b21199",
   "metadata": {},
   "source": [
    "on_time_performance = flight_performance.calculate_on_time_performance()\n",
    "flight_percentages = flight_performance.calculate_flight_percentages()\n",
    "\n",
    "# Combine both DataFrames\n",
    "combined_performance = pd.merge(on_time_performance, flight_percentages, on='Flight Category', how='left')\n",
    "combined_performance"
   ],
   "outputs": [],
   "execution_count": null
  },
  {
   "cell_type": "code",
   "id": "42fa077e-c819-4737-9840-de8af6e2a9f6",
   "metadata": {},
   "source": [
    "sns.set(style=\"whitegrid\")\n",
    "plt.figure(figsize=(10, 6))\n",
    "sns.histplot(data=df, x='dep_delay', hue='flight_cat', kde=True, bins=50)\n",
    "plt.xlim(0, 300)  # 300 minutes for better visualization\n",
    "plt.title('Distribution of Departure Delays by Flight Category')\n",
    "plt.xlabel('Departure Delay (minutes)')\n",
    "plt.ylabel('Number of flights')\n",
    "plt.show()"
   ],
   "outputs": [],
   "execution_count": null
  },
  {
   "cell_type": "markdown",
   "id": "4c721dcc-f135-44c5-a3b9-f5d1fdcbb9b8",
   "metadata": {
    "jp-MarkdownHeadingCollapsed": true
   },
   "source": [
    "### **3.5. Airline Delays**\n",
    "The total volume of flights and the percentage of delayed flights by airlines."
   ]
  },
  {
   "cell_type": "code",
   "id": "f20f39ec-a058-4977-961f-160d69d8d93d",
   "metadata": {
    "scrolled": true
   },
   "source": [
    "# Total volume of flights by airline\n",
    "total_flights_airline = df.groupby('airline_name')['uuid'].count().reset_index()\n",
    "total_flights_airline.columns = ['airline_name', 'total_flights']\n",
    "\n",
    "# Delayed flights by airline\n",
    "delayed_flights_airline = df[df['dep_delay_15'] == 1].groupby('airline_name')['uuid'].count().reset_index()\n",
    "delayed_flights_airline.columns = ['airline_name', 'delayed_flights']\n",
    "\n",
    "# Percentage of delayed flights\n",
    "flights_summary = pd.merge(total_flights_airline, delayed_flights_airline, on='airline_name', how='left')\n",
    "flights_summary['delayed_flights'] = flights_summary['delayed_flights'].fillna(0).astype(int)  # Handling NaNs\n",
    "flights_summary['percent_delayed(%)'] = ((flights_summary['delayed_flights'] / flights_summary['total_flights']) * 100).round(2)\n",
    "\n",
    "sorted_flights_summary = flights_summary.sort_values(by='percent_delayed(%)', ascending=False)\n",
    "\n",
    "sns.set(style=\"whitegrid\")\n",
    "plt.figure(figsize=(20,7))\n",
    "plt.bar(sorted_flights_summary['airline_name'], sorted_flights_summary['percent_delayed(%)'], color='skyblue')\n",
    "plt.xticks(rotation=90, fontsize=4)\n",
    "plt.xlabel('Airline')\n",
    "plt.ylabel('Percentage of Delayed Flights (%)')\n",
    "plt.title('Percentage of Delayed Flights by Airline')\n",
    "plt.tight_layout()\n",
    "plt.show()"
   ],
   "outputs": [],
   "execution_count": null
  },
  {
   "cell_type": "markdown",
   "id": "9c0b2fbb-b0c2-48ea-aad9-d3c1c0a984b9",
   "metadata": {
    "jp-MarkdownHeadingCollapsed": true
   },
   "source": [
    "### **3.6. Frequent Routes and Airports**\n",
    "Routes and airports in Brussels with the highest percentage of delays."
   ]
  },
  {
   "cell_type": "code",
   "id": "a9e53e6c-b70b-43c9-a53a-602ea6a4f359",
   "metadata": {
    "scrolled": true
   },
   "source": [
    "analysis = AirlineDelays(df)\n",
    "\n",
    "# Calculate and print average delays\n",
    "average_delay_sorted = analysis.calculate_average_delay()\n",
    "print(average_delay_sorted.head())\n",
    "analysis.plot_top_delays(top_n=10) # Plot the top 10 average delays"
   ],
   "outputs": [],
   "execution_count": null
  },
  {
   "cell_type": "markdown",
   "id": "e149b66e-c210-4aa3-b0d4-8c1e29a1c003",
   "metadata": {},
   "source": [
    "### **3.7. EDA Results**\n",
    "1. Most of the flights in the dataset are delayed. **Delayed Flights: 61.97%**\n",
    "2. Most of the delays happen within the first hour. **Between 0 - 60 minutes: 88.05%**\n",
    "3. Top 10 airline & route delays\n",
    "4. Most flights are scheduled to depart in the morning. **Departure (Morning): 50.35%**\n",
    "5. Most flights are scheduled to arrive in the morning. **Arrival (Morning): 40.07%**\n",
    "6. The delay within departure flights throughout the day is similar\n",
    "    * **Afternoon: 63.31%** (of the flights are delayed)\n",
    "    * Evening: 62.15% \n",
    "    * Morning: 61.07% \n",
    "7. The delay within arrival flights throughout the day is similar\n",
    "    * **Afternoon: 65.06%** (of the flights are delayed)\n",
    "    * Evening: 62.5%\n",
    "    * Morning: 58.08%\n",
    "8. Most of the flights are commercial. **Commercial Flights: 92.81%**\n",
    "9. The delay within departure flight throughout the day is similar\n",
    "    * Cargo: 31.7%  (of the flights are delayed)\n",
    "    * Commercial: 34.62%\n",
    "    * **Private: 38.47%**\n",
    "10. Most of the flights in the dataset are active. **Active flights: 51.04%**\n",
    "\n"
   ]
  },
  {
   "cell_type": "markdown",
   "id": "49b23684-7d89-447a-b129-949b5d4a3be4",
   "metadata": {},
   "source": [
    "## **4. Statistical Analysis**"
   ]
  },
  {
   "cell_type": "markdown",
   "id": "9efbc9b9-b670-4bb3-b1dd-515e39781aec",
   "metadata": {
    "jp-MarkdownHeadingCollapsed": true
   },
   "source": [
    "### **4.1. Normality Test**\n",
    "Many machine learning algorithms, such as linear regression, assume that variables follow a normal distribution. Testing the normality of your data helps determine if transformations are needed before modeling.\n",
    "\n",
    "* Perform **Shapiro-Wilk Test**: It tests the null hypothesis that the data is normally distributed. If the p-value is less than 0.05, the data significantly deviates from normality. The test will be performed by taking a random sample of the data (5,000 rows) to ensure the test's validity.\n",
    "* Plot a **Q-Q Plot (Quantile-Quantile plots)**: They compare the data's distribution to a normal distribution. If the data is normally distributed, the points will fall along a straight line."
   ]
  },
  {
   "cell_type": "code",
   "id": "bb77760e-1689-4630-917b-1b23b6e4c4f7",
   "metadata": {},
   "source": [
    "sample = df['dep_delay'].sample(5000, random_state=42) # Random sample of 5000 rows\n",
    "\n",
    "# Shapiro-Wilk test\n",
    "stat, p_value = stats.shapiro(sample)\n",
    "print(f'Statistic={stat}, p-value={p_value}')\n",
    "if p_value > 0.05:\n",
    "    print(\"Sampled data is normally distributed.\")\n",
    "else:\n",
    "    print(\"Sampled data is not normally distributed.\")"
   ],
   "outputs": [],
   "execution_count": null
  },
  {
   "cell_type": "code",
   "id": "08c745bd-8674-4c90-acd1-d1576b433a44",
   "metadata": {},
   "source": [
    "stats.probplot(df['dep_delay'], dist=\"norm\", plot=plt)\n",
    "plt.title(\"Q-Q Plot for Departure Delay\")\n",
    "plt.show()"
   ],
   "outputs": [],
   "execution_count": null
  },
  {
   "cell_type": "markdown",
   "id": "95eff167-3b0c-44d8-aa13-a21889090afa",
   "metadata": {},
   "source": [
    "Q-Q plot Results:\n",
    "* departure delay **deviates** from a theoretical **normal distribution**\n",
    "* the upward curvature and points far from the red line (which represents a normal distribution) suggest that the data is **not normally distributed**\n",
    "* the heavy tails (many large values far above the line) indicate **positive skewness** (large number of extreme departure delays)\n",
    "\n",
    "This means modeling on departure delays may benefit from transformations to normalize the data"
   ]
  },
  {
   "cell_type": "markdown",
   "id": "142b1571-224c-4d10-8b3d-3a895b1bee84",
   "metadata": {
    "jp-MarkdownHeadingCollapsed": true
   },
   "source": [
    "### **4.2. Correlation Analysis**\n",
    "Correlation analysis helps you understand the relationships between numerical variables. This can inform feature selection, detect multicollinearity, and reveal underlying patterns in your data.\n",
    "* **Correlation Matrix** and **Heatmap**\n",
    "* **Multicollinearity** Check with **Variance Inflation Factor (VIF)** to quantify how much the variance of each feature is inflated due to multicollinearity\n",
    "    * A VIF of 1 indicates no correlation between the variable and the other variables.\n",
    "    * A VIF between 1 and 5 suggests moderate correlation and is usually acceptable.\n",
    "    * A VIF above 5 (and especially above 10) indicates high multicollinearity that could be problematic. "
   ]
  },
  {
   "cell_type": "code",
   "id": "01522941-89b0-46e3-967e-125db9a260e5",
   "metadata": {},
   "source": [
    "# Select the relevant columns for encoding\n",
    "columns_of_interest = ['type', 'status', 'flight_cat', 'dep_time_window']\n",
    "\n",
    "# Filter the DataFrame to include only those columns\n",
    "df_selected = df[columns_of_interest]\n",
    "\n",
    "# Apply one-hot encoding to these columns\n",
    "df_encoded = pd.get_dummies(df_selected, drop_first=True)\n",
    "\n",
    "# Check for the additional columns in the original DataFrame\n",
    "additional_columns = ['dep_delay', 'dep_delay_15', 'calc_sft', 'calc_aft', \n",
    "                      'calc_flight_distance_km', 'on_time_15']\n",
    "\n",
    "# Ensure the additional columns exist in the original DataFrame\n",
    "for col in additional_columns:\n",
    "    if col not in df.columns:\n",
    "        print(f\"Column '{col}' not found in the original DataFrame.\")\n",
    "\n",
    "# Combine the encoded DataFrame with the additional columns from the original DataFrame\n",
    "df_combined = pd.concat([df_encoded, df[additional_columns]], axis=1)\n",
    "\n",
    "# Create a DataFrame with only the selected columns\n",
    "selected_columns = ['dep_delay', 'dep_delay_15', 'calc_sft', 'calc_aft', \n",
    "                    'calc_flight_distance_km', 'on_time_15', \n",
    "                    'type_DEPARTURE', 'status_DIVERTED', 'status_LANDED', \n",
    "                    'status_SCHEDULED', 'flight_cat_Commercial', \n",
    "                    'flight_cat_Private', 'dep_time_window_Evening', \n",
    "                    'dep_time_window_Morning']\n",
    "\n",
    "# Filter the combined DataFrame to include only the selected columns\n",
    "df_final = df_combined[selected_columns]\n",
    "\n",
    "# Calculate the correlation matrix for the selected columns\n",
    "correlation_matrix = df_final.corr()\n",
    "\n",
    "# Plot the correlation matrix\n",
    "plt.figure(figsize=(12, 10))\n",
    "plt.title('Correlation Matrix for Selected Features')\n",
    "sns.heatmap(correlation_matrix, annot=True, cmap=\"coolwarm\", fmt='.2f', linewidths=0.5)\n",
    "plt.show()\n"
   ],
   "outputs": [],
   "execution_count": null
  },
  {
   "cell_type": "code",
   "id": "788e3f68-e4a2-4896-9a4c-99df37aa84d9",
   "metadata": {},
   "source": [
    "numerical_columns = ['dep_delay', 'dep_delay_15', 'calc_sft', 'calc_aft', 'calc_flight_distance_km','on_time_15'] # Selecting only the numerical columns\n",
    "corr_matrix = df[numerical_columns].corr() # Creating the correlation matrix\n",
    "\n",
    "plt.figure(figsize=(10, 8))\n",
    "sns.heatmap(corr_matrix, annot=True, cmap=\"coolwarm\", linewidths=0.5)\n",
    "plt.title('Correlation Matrix')\n",
    "plt.show()"
   ],
   "outputs": [],
   "execution_count": null
  },
  {
   "cell_type": "markdown",
   "id": "f4136925-86f3-40f2-9125-85d1cd745a0e",
   "metadata": {},
   "source": [
    "Correlation Matrix Results:\n",
    "* **Strong Correlations**\n",
    "    * There is a very strong positive correlation between the **flight times** (calc_sft, calc_aft), and the **flight distance** (calc_flight_distance_km). This makes sense as longer distances are expected to result in **longer scheduled and actual flight times**.\n",
    "* **Negative Correlations**\n",
    "    * Total **departure delay** (dep_delay) and the **flights on time** (on_time_15, marked as on time when it's more than 15 min.) are moderately negatively correlated (-0.44), which is expected because as departure delay increases, the likelihood of a flight being on time decreases.\n",
    "    * The **departure delay** (dep_delay_15, marked as delayed when it's more than 15 min.) has a very strong negative correlation with the **flights on time** (on_time_15) (-0.93). This indicates a nearly **inverse relationship**: when a flight is delayed by more than 15 minutes, it is almost guaranteed not to be classified as \"on time.\"\n",
    "* **Weak Correlations**\n",
    "    * Correlations between **departure dedlays** (dep_delay, dep_delay_15), and the **flight time/distance-related features** (calc_sft, calc_aft, calc_flight_distance_km) are weak, which means that **flight time** or **distance** does not significantly impact the likelihood of **departure delays** in this dataset."
   ]
  },
  {
   "cell_type": "code",
   "id": "e7782441-8bf3-412a-b85e-b3021f31dc64",
   "metadata": {},
   "source": [
    "X = df[['calc_sft', 'calc_aft', 'calc_flight_distance_km', 'dep_delay', 'dep_delay_15', 'on_time_15']] # Select relevant features for VIF calculation\n",
    "\n",
    "vif_data = pd.DataFrame()\n",
    "vif_data[\"feature\"] = X.columns # Calculate VIF for each feature\n",
    "vif_data[\"VIF\"] = [variance_inflation_factor(X.values, i) for i in range(len(X.columns))]\n",
    "print(vif_data)"
   ],
   "outputs": [],
   "execution_count": null
  },
  {
   "cell_type": "markdown",
   "id": "c5bab7df-e5ea-49d7-8ec6-395909db3b4d",
   "metadata": {},
   "source": [
    "* calc_sft and calc_aft have **extremely high** VIF values (>10), indicating high multicollinearity.\n",
    "* calc_flight_distance_km also shows **significant multicollinearity** with a VIF of 76.84.\n",
    "* The **other variables** seem **fine** as their VIF values are below 5, which is typically an acceptable threshold for multicollinearity."
   ]
  },
  {
   "cell_type": "code",
   "id": "f0d7d8a6-4658-4b76-82cf-d845035366e2",
   "metadata": {},
   "source": [
    "features = ['dep_delay', 'dep_delay_15', 'on_time_15']\n",
    "x = df[features] # New dataframe with the selected features\n",
    "x = sm.add_constant(x) # Add a constant term for the intercept\n",
    "\n",
    "# Function to calculate VIF\n",
    "def calculate_vif(x):\n",
    "    vif_data = pd.DataFrame()\n",
    "    vif_data['feature'] = x.columns\n",
    "    vif_data['VIF'] = [variance_inflation_factor(x.values, i) for i in range(x.shape[1])]\n",
    "    return vif_data\n",
    "\n",
    "vif_initial = calculate_vif(x)# Calculate initial VIF\n",
    "print(\"Initial VIF:\")\n",
    "print(vif_initial)\n",
    "\n",
    "x_reduced = df[['dep_delay', 'on_time_15']]  # If high VIFs, remove one of the  features\n",
    "x_reduced = sm.add_constant(x_reduced) # Add a constant term again\n",
    "\n",
    "vif_reduced = calculate_vif(x_reduced) # Recalculate VIF\n",
    "print(\"\\nReduced VIF after removing dep_delay_15:\")\n",
    "print(vif_reduced)\n",
    "\n",
    "model = sm.OLS(df['dep_delay_15'], x_reduced).fit()  # Fit the updated model with your actual dependent variable\n",
    "print(\"\\nModel Summary:\")\n",
    "print(model.summary())"
   ],
   "outputs": [],
   "execution_count": null
  },
  {
   "cell_type": "markdown",
   "id": "47bf6b81-3fe5-42b8-8684-17e21ea79857",
   "metadata": {},
   "source": [
    "* Const in Linear Models: The constant term represents the expected value of the dependent variable when all predictor variables are zero.\n",
    "* High VIF for the Constant: A high VIF for the constant can be indicative of a design matrix that lacks variance or is poorly scaled. However, it does not necessarily mean that the model is problematic. It primarily reflects the overall correlation structure of the data."
   ]
  },
  {
   "cell_type": "markdown",
   "id": "e350845e-3df9-4288-8471-83ffb89cb43d",
   "metadata": {
    "jp-MarkdownHeadingCollapsed": true
   },
   "source": [
    "### **4.3. Statistical Test**"
   ]
  },
  {
   "cell_type": "code",
   "id": "69560ac2-9bf3-4845-8e30-6aa4247bc5c6",
   "metadata": {},
   "source": [
    "observed_counts = [flight_performance.count_delayed_flights(lower, upper) for lower, upper, _ in delay_ranges] # Observed counts of delayed flights in each range\n",
    "total_observed_counts = sum(observed_counts) # Calculate the total observed counts\n",
    "\n",
    "if total_observed_counts == 0:\n",
    "    print(\"No delayed flights were observed. Cannot perform chi-squared test.\")\n",
    "else:\n",
    "    expected_counts = [total_observed_counts / len(delay_ranges)] * len(delay_ranges) # Expected counts: Equal distribution across ranges based on observed counts\n",
    "    chi2_stat, p_value = stats.chisquare(f_obs=observed_counts, f_exp=expected_counts) # Perform the chi-squared test\n",
    "\n",
    "    print(f\"Chi-squared Statistic: {chi2_stat:.4f}\")\n",
    "    print(f\"P-value: {p_value:.4f}\")\n",
    "\n",
    "    if p_value < 0.05:\n",
    "        print(\"The differences in delay ranges are statistically significant (p < 0.05).\")\n",
    "    else:\n",
    "        print(\"The differences in delay ranges are not statistically significant (p ≥ 0.05).\")"
   ],
   "outputs": [],
   "execution_count": null
  },
  {
   "cell_type": "markdown",
   "id": "f8108392-c67c-4a62-b1a8-09388fdf40a7",
   "metadata": {},
   "source": [
    "Interpretation of Results:\n",
    "* **Chi-squared Statistic** (822336.7532): This value indicates the degree of deviation between the observed frequencies (actual counts of delayed flights in each range) and the expected frequencies (counts predicted based on the hypothesis). A high chi-squared statistic typically suggests a **large difference** between observed and expected values.\n",
    "\n",
    "* **P-value** (0.0000): A p-value of 0.0000 (which is effectively less than 0.05) indicates that the likelihood of observing such a large chi-squared statistic due to random chance is **extremely low**. Therefore, you can **reject the null hypothesis** that there is no significant difference in the distributions of delayed flights across the defined ranges.\n",
    "\n",
    "* **Statistical Significance**: Since the differences in delay ranges are statistically significant, this means that the **distribution of delayed flight**s across the delay categories is not uniform and that there are significant variations in how flights are delayed."
   ]
  },
  {
   "cell_type": "code",
   "id": "b1146e4d-1db5-4a49-9ec3-155c774e2942",
   "metadata": {},
   "source": [
    "# Residual Analysis\n",
    "residuals = model.resid\n",
    "fitted = model.fittedvalues # Extract residuals and fitted values\n",
    "plt.figure(figsize=(12, 6))\n",
    "sns.scatterplot(x=fitted, y=residuals)\n",
    "plt.axhline(0, linestyle='--', color='red')\n",
    "plt.title('Residuals vs Fitted')\n",
    "plt.xlabel('Fitted Values')\n",
    "plt.ylabel('Residuals')\n",
    "plt.show()\n",
    "\n",
    "# Q-Q Plot for Normality\n",
    "plt.figure(figsize=(12, 6))\n",
    "sm.qqplot(residuals, line='s', ax=plt.gca())\n",
    "plt.title('Q-Q Plot of Residuals')\n",
    "plt.show()\n",
    "\n",
    "# Histogram of Residuals\n",
    "plt.figure(figsize=(12, 6))\n",
    "sns.histplot(residuals, kde=True, bins=30)\n",
    "plt.title('Histogram of Residuals')\n",
    "plt.xlabel('Residuals')\n",
    "plt.ylabel('Frequency')\n",
    "plt.show()\n",
    "\n",
    "shapiro_test = stats.shapiro(residuals) # Shapiro-Wilk Test for Normality\n",
    "print(f\"\\nShapiro-Wilk Test: Statistic={shapiro_test.statistic}, p-value={shapiro_test.pvalue}\")\n",
    "\n",
    "# Durbin-Watson Test for Autocorrelation\n",
    "dw_statistic = durbin_watson(residuals)\n",
    "print(f\"\\nDurbin-Watson statistic: {dw_statistic}\")\n",
    "\n",
    "# Interpretation of tests\n",
    "if shapiro_test.pvalue < 0.05:\n",
    "    print(\"Residuals are not normally distributed (reject H0).\")\n",
    "else:\n",
    "    print(\"Residuals are normally distributed (fail to reject H0).\")\n",
    "\n",
    "if dw_statistic < 1.5:\n",
    "    print(\"Positive autocorrelation (DW < 1.5).\")\n",
    "elif dw_statistic > 2.5:\n",
    "    print(\"Negative autocorrelation (DW > 2.5).\")\n",
    "else:\n",
    "    print(\"No autocorrelation (DW between 1.5 and 2.5).\")"
   ],
   "outputs": [],
   "execution_count": null
  },
  {
   "cell_type": "markdown",
   "id": "55188487-199f-4c19-9744-fcd91d807b7e",
   "metadata": {},
   "source": [
    "## **5. Modelling (Next step)**"
   ]
  },
  {
   "cell_type": "code",
   "id": "c5706cbd-207f-4c7d-84fe-780a2160bb29",
   "metadata": {},
   "source": [],
   "outputs": [],
   "execution_count": null
  }
 ],
 "metadata": {
  "kernelspec": {
   "display_name": "Python 3 (ipykernel)",
   "language": "python",
   "name": "python3"
  },
  "language_info": {
   "codemirror_mode": {
    "name": "ipython",
    "version": 3
   },
   "file_extension": ".py",
   "mimetype": "text/x-python",
   "name": "python",
   "nbconvert_exporter": "python",
   "pygments_lexer": "ipython3",
   "version": "3.9.19"
  }
 },
 "nbformat": 4,
 "nbformat_minor": 5
}
