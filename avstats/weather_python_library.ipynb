{
 "cells": [
  {
   "cell_type": "code",
   "id": "initial_id",
   "metadata": {
    "collapsed": true,
    "ExecuteTime": {
     "end_time": "2024-10-25T09:47:28.287147Z",
     "start_time": "2024-10-25T09:47:28.282876Z"
    }
   },
   "source": [
    "from meteostat import Point, Daily\n",
    "import pandas as pd\n",
    "from datetime import datetime"
   ],
   "outputs": [],
   "execution_count": 2
  },
  {
   "metadata": {
    "ExecuteTime": {
     "end_time": "2024-10-25T09:51:06.557377Z",
     "start_time": "2024-10-25T09:51:06.453089Z"
    }
   },
   "cell_type": "code",
   "source": [
    "# Create a point for Brussels\n",
    "brussels = Point(50.8503, 4.3517)\n",
    "\n",
    "# Define the start and end dates\n",
    "start = datetime(2023, 1, 1)\n",
    "end = datetime(2023, 12, 31)\n",
    "\n",
    "# Get daily data for the specified range\n",
    "data = Daily(brussels, start, end)\n",
    "data = data.fetch()\n",
    "\n",
    "# Combine the desired date columns into a single datetime column if necessary\n",
    "if 'date' in data.columns and isinstance(data.index, pd.MultiIndex):\n",
    "    data['date'] = pd.to_datetime(data.index.to_frame().reset_index(drop=True))\n",
    "    data = data.reset_index(drop=True).set_index('date')\n",
    "\n",
    "print(data)"
   ],
   "id": "bf8d6c84db708d9a",
   "outputs": [
    {
     "name": "stdout",
     "output_type": "stream",
     "text": [
      "            tavg  tmin  tmax  prcp  snow   wdir  wspd  wpgt    pres  tsun\n",
      "time                                                                     \n",
      "2023-01-01  13.0  10.4  16.2   5.4   NaN  193.0  22.8  59.3  1013.1   NaN\n",
      "2023-01-02   9.8   6.5  13.5   8.0   NaN  223.0  15.8  44.5  1017.2   NaN\n",
      "2023-01-03   6.8   3.9   8.9   0.1   NaN  188.0  17.9  50.0  1026.2   NaN\n",
      "2023-01-04  11.2   8.2  12.4   4.8   NaN  220.0  27.0  59.3  1018.7   NaN\n",
      "2023-01-05  10.7   9.7  11.4   1.3   NaN  237.0  14.9  46.3  1021.2   NaN\n",
      "...          ...   ...   ...   ...   ...    ...   ...   ...     ...   ...\n",
      "2023-12-27   3.4   0.9   5.1   0.0   NaN  174.0  20.4  53.7  1014.8   NaN\n",
      "2023-12-28   8.1  10.0  10.7   0.3   NaN  211.0  29.5  53.7  1012.2   NaN\n",
      "2023-12-29   4.7   8.7   7.5   0.0   NaN  219.0  28.1  61.1  1010.2   NaN\n",
      "2023-12-30   4.9   7.4   6.0   4.6   NaN  201.0  19.6  40.8  1012.0   NaN\n",
      "2023-12-31   9.1   8.4  10.5   3.9   NaN  193.0  29.4  63.0   998.4   NaN\n",
      "\n",
      "[365 rows x 10 columns]\n"
     ]
    }
   ],
   "execution_count": 4
  },
  {
   "metadata": {},
   "cell_type": "code",
   "outputs": [],
   "execution_count": null,
   "source": "",
   "id": "117c9404fcb24260"
  }
 ],
 "metadata": {
  "kernelspec": {
   "display_name": "Python 3",
   "language": "python",
   "name": "python3"
  },
  "language_info": {
   "codemirror_mode": {
    "name": "ipython",
    "version": 2
   },
   "file_extension": ".py",
   "mimetype": "text/x-python",
   "name": "python",
   "nbconvert_exporter": "python",
   "pygments_lexer": "ipython2",
   "version": "2.7.6"
  }
 },
 "nbformat": 4,
 "nbformat_minor": 5
}
