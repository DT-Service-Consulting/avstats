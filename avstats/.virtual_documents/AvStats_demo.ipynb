





from classes import NewFeatures, FlightPerformance, AirlineDelays, DataCleaning, Multicollinearity
from airport_mapping import airport_mapping
from imports import *
from config import EXCEL_FILE
from config import CSV_FILE_SCHED
from config import CSV_FILE_WEATHER


df = pd.read_csv(CSV_FILE_SCHED)
df_weather = pd.read_csv(CSV_FILE_WEATHER)
df_passengers = pd.ExcelFile(EXCEL_FILE)

df.head()











check = DataCleaning(unique_column='uuid')
missing_values, duplicate_rows = check.check_missing_and_duplicates(df)


df.fillna({'dep_delay': 0}, inplace=True) # Missing values with 0 when the flight is not delayed

# Convert to datetime
datetime_columns = ['sat', 'sdt', 'aat', 'adt']
for col in datetime_columns:
    df[col] = pd.to_datetime(df[col])

# Fill missing 'adt' and 'aat' values based on their corresponding scheduled times and delays
df['adt'] = df['adt'].fillna(df['sdt'] + pd.to_timedelta(df['dep_delay'], unit='m'))
df['aat'] = df['aat'].fillna(df['sat'] + pd.to_timedelta(df['dep_delay'], unit='m'))
df['calc_sft'] = df['calc_sft'].fillna((df['sat'] - df['sdt']) / pd.Timedelta(minutes=1))
df['calc_aft'] = df['calc_aft'].fillna((df['aat'] - df['adt']) / pd.Timedelta(minutes=1))

df.fillna({'airline_iata_code': 'NONE', 'flight_iata_number': 'NONE'}, inplace=True) # Missing airline and flight information with 'NONE'
df.head(7)


print(df.isna().sum().sum()) # Prints amount of missing values








# New column dep_delay_15
df.loc[:, 'dep_delay_15'] = (df['dep_delay'] > 15).astype(int)
cols = list(df.columns) # Get the current list of columns
dep_delay_index = cols.index('dep_delay') # Find the index of dep_delay
cols.insert(dep_delay_index + 1, cols.pop(cols.index('dep_delay_15'))) # Move dep_delay_15 next to dep_delay
df = df[cols].copy() # Column rearrangement with .copy() to avoid SettingWithCopyWarning

# New column dep_delay_cat
df.loc[:, 'dep_delay_cat'] = pd.cut(df['dep_delay'], bins=[-float('inf'), 15, 60, float('inf')], labels=['Short', 'Medium', 'Long'])
cols = list(df.columns)
dep_delay_15_index = cols.index('dep_delay_15')
cols.insert(dep_delay_15_index + 1, cols.pop(cols.index('dep_delay_cat'))) 
df = df[cols].copy()  # Again, make sure to create a copy

# New column flight_cat using the Flight class's categorize_flight method
def categorize_flight(row):
    flight = NewFeatures(uuid=row['uuid'], dep_delay=row['dep_delay'], sdt=row['sdt'], sat=row['sat'], cargo=row['cargo'], private=row['private'])
    return flight.categorize_flight()

df.loc[:, 'flight_cat'] = df.apply(categorize_flight, axis=1)

# New column dep_time_window & arr_time_window using the Flight class's get_time_window method
def get_time_window_for_flight(row, time_type='departure'):
    flight = NewFeatures(uuid=row['uuid'], dep_delay=row['dep_delay'], sdt=row['sdt'], sat=row['sat'], cargo=row['cargo'], private=row['private'])
    return flight.get_time_window(time_type)

# Add new columns for departure and arrival time windows
df['dep_time_window'] = df.apply(lambda row: get_time_window_for_flight(row, 'departure'), axis=1)
df['arr_time_window'] = df.apply(lambda row: get_time_window_for_flight(row, 'arrival'), axis=1)

# Create a new column for on-time flights
df.loc[:, 'on_time_15'] = df['dep_delay'].map(lambda x: 1 if x < 15 else 0)
df.head(10)





check = DataCleaning(unique_column='datetime')
missing_values, duplicate_rows = check.check_missing_and_duplicates(df_weather)


df_weather.fillna({'preciptype': 'NONE'}, inplace=True) # Missing airline and flight information with 'NONE'
df_weather['datetime'] = pd.to_datetime(df_weather['datetime'], errors='coerce') # First, ensure that datetime is in the correct format
df_weather['datetime'] = df_weather['datetime'].dt.tz_localize('UTC', ambiguous='NaT') # Convert the datetime column to UTC


# Sort the DataFrames before merging
df_sorted = df.sort_values('sdt')
df_weather_sorted = df_weather.sort_values('datetime')

# Merge the two DataFrames
df_combined_weather = pd.merge_asof(df_sorted, df_weather_sorted, left_on='sdt', right_on='datetime', direction='backward')
df_combined_weather.head()





passengers_airline = pd.read_excel(df_passengers, sheet_name='Sheet 1', header=8) # Load the specific sheets for Arrival and Departure 2023
df_passengers_airline = passengers_airline.dropna().copy() # Drop rows with any NaN values
df_passengers_airline = df_passengers_airline[~df_passengers_airline.apply(lambda row: row.astype(str).str.contains(":").any(), axis=1)] # Drop rows where any column contains ":"
df_passengers_airline.rename(columns={'TIME': 'AIRP_PR'}, inplace=True)


missing_values = df_passengers_airline.isna().sum().sum()
print(f"Number of total missing values: {missing_values}")


def convert_to_route_code(row):
    airports = row.split(' - ')
    if len(airports) == 2:
        return f"{airport_mapping.get(airports[0].strip(), '')}-{airport_mapping.get(airports[1].strip(), '')}"
    return None

# Apply the function to the 'AIRP_PR' column
df_passengers_airline['Route_Code'] = df_passengers_airline['AIRP_PR'].apply(convert_to_route_code)
df_passengers_airline.insert(df_passengers_airline.columns.get_loc('AIRP_PR') + 1, 'Route_Code', df_passengers_airline.pop('Route_Code'))
df_passengers_airline.head()





df_combined_weather['sdt'] = pd.to_datetime(df_combined_weather['sdt']) # Ensure datetime format
df_combined_weather['Month'] = df_combined_weather['sdt'].dt.to_period('M') # Extract month in 'YYYY-MM' format

df_grouped = df_combined_weather.groupby(['route_iata_code', 'Month']).agg( # Group by route and month
    total_flights=('uuid', 'count'),
    total_dep_delay=('dep_delay', 'sum'),
    total_dep_delay_15=('dep_delay_15', 'sum'),
    
    # Status counts
    landed=('status', lambda x: (x == 'LANDED').sum()),
    active=('status', lambda x: (x == 'ACTIVE').sum()),
    scheduled=('status', lambda x: (x == 'SCHEDULED').sum()),
    
    # Type counts (departure/arrival)
    departures=('type', lambda x: (x == 'DEPARTURE').sum()),
    arrivals=('type', lambda x: (x == 'ARRIVAL').sum()),
    
    # Delay category counts
    short_delay=('dep_delay_cat', lambda x: (x == 'Short').sum()),
    medium_delay=('dep_delay_cat', lambda x: (x == 'Medium').sum()),
    long_delay=('dep_delay_cat', lambda x: (x == 'Long').sum()),

    # Weather data
    avg_temp=('temp', 'mean'),
    avg_dew=('dew', 'mean'),
    avg_humidity=('humidity', 'mean'),
    total_precip=('precip', 'sum'),
    
    # Other useful weather stats (feel free to add/remove based on needs)
    avg_wind_speed=('windspeed', 'mean'),
    avg_cloud_cover=('cloudcover', 'mean'),
    avg_visibility=('visibility', 'mean')
).reset_index()

# Merge with the passengers data to make organize it by month
df_passengers_airline_long = pd.melt(
    df_passengers_airline, 
    id_vars=['AIRP_PR', 'Route_Code'], 
    var_name='Month', 
    value_name='total_passengers'
)

# Convert month in passengers data to 'YYYY-MM' format
df_passengers_airline_long['Month'] = pd.to_datetime(df_passengers_airline_long['Month'], format='%Y-%m').dt.to_period('M')

# Merge on route code and month
df_merged = pd.merge(
    df_grouped, 
    df_passengers_airline_long, 
    left_on=['route_iata_code', 'Month'], 
    right_on=['Route_Code', 'Month'], 
    how='inner'
)

# Inspect the merged result
df_merged











flight_performance = FlightPerformance(df) # Create an instance of FlightAnalysis
status_df = flight_performance.get_status_summary() # Get the status summary DataFrame
status_df


status_summary = flight_performance.get_status_summary()
status_proportions = status_summary['Proportions (%)']  # Extract status proportions for plotting

sns.set(style="whitegrid")
plt.figure(figsize=(6, 6))
plt.pie(status_proportions, labels=status_summary['Status'], autopct='%1.1f%%', startangle=50)
plt.title('Proportion of Different Status Types')
plt.show()





percentages = flight_performance.overall_performance() # Calculate overall performance
print("Overall Flight Performance Percentage\n")
for label, percent in percentages.items():
    print(f"{label}: {percent:.2f}%")

# Define delay ranges and labels
delay_ranges = [
    (0, 60, "0 - 60 minutes"),
    (60, 120, "60 - 120 minutes"),
    (120, 180, "120 - 180 minutes"),
    (180, None, "over 180 minutes")
]

delay_percentages = flight_performance.delayed_flight_percentages(delay_ranges) # Calculate and print delay percentages for each range
print("\nPercentage of Delayed Flights\n")
for label, percent in delay_percentages.items():
    print(f"Between {label}: {percent:.2f}%")


sns.set(style="whitegrid")
plt.figure(figsize=(12, 6))

plt.subplot(1, 2, 1) # Distribution of dep_delay
sns.histplot(df['dep_delay'], bins=30, kde=True)  # kde=True adds a smooth curve
plt.title('Distribution of Departure Delays')
plt.xlabel('dep_delay (min.)')
plt.ylabel('Number of Flights')
plt.xlim(0, 200) 

plt.subplot(1, 2, 2) # Distribution of dep_delay_15 
sns.histplot(df['dep_delay_15'], bins=2, kde=False)  # Binary values (0 and 1)
plt.title('Distribution of Delayed or Not')
plt.xlabel('dep_delay_15 (binary)')
plt.ylabel('Number of Flights')
plt.xticks(ticks=[0, 1], labels=['Not Delayed (<15 min.)', 'Delayed (>15 min.)'])

plt.tight_layout()
plt.show()





dep_flight_summary = flight_performance.flight_summary_by_time_window('dep_time_window', summarize_delays=True)
time_window_proportions = flight_performance.calculate_time_window_percentages()
time_window_proportions


dep_flight_summary = flight_performance.flight_summary_by_time_window('dep_time_window', summarize_delays=True)
arr_flight_summary = flight_performance.flight_summary_by_time_window('arr_time_window', summarize_delays=True)
dep_flight_summary


arr_flight_summary


# New df for the bar plots
dep_bar_data = pd.melt(dep_flight_summary, id_vars='dep_time_window', value_vars=['delayed_flights', 'total_flights'],var_name='flight_type', value_name='count')
arr_bar_data = pd.melt(arr_flight_summary, id_vars='arr_time_window', value_vars=['delayed_flights', 'total_flights'],var_name='flight_type', value_name='count')

# Shift left for delayed flights and right for total flights
dep_bar_data['position'] = dep_bar_data['flight_type'].map({'delayed_flights': -0.2, 'total_flights': 0.2})
arr_bar_data['position'] = arr_bar_data['flight_type'].map({'delayed_flights': -0.2, 'total_flights': 0.2})

# Plot for Total and Delayed Arrival Flights
plt.figure(figsize=(10, 6))
ax=sns.barplot(data=dep_bar_data, x='dep_time_window', y='count', hue='flight_type', dodge=True, palette=['#35b779', '#31688e'])
for index, row in dep_flight_summary.iterrows():
    if row['delayed_flights'] > 0:  # Only display if there are delayed flights
        ax.text(index, row['delayed_flights'], f"{row['dep_time_window_percentage_delayed']}", color='black', ha='right', va='bottom', fontsize=12)
plt.title('Total and Delayed Flights by Departure Time Window')
plt.ylabel('Number of Flights')
plt.xlabel('Departure Time Window')
plt.xticks(rotation=45)
plt.legend(title='Flight Type', labels=['Delayed Flights', 'Total Flights'])
plt.show()

# Plot for Total and Delayed Departure Flights
plt.figure(figsize=(10, 6))
bx=sns.barplot(data=arr_bar_data, x='arr_time_window', y='count', hue='flight_type', dodge=True, palette=['#35b779', '#31688e'])
for index, row in arr_flight_summary.iterrows():
    if row['delayed_flights'] > 0:  # Only display if there are delayed flights
        bx.text(index, row['delayed_flights'], f"{row['arr_time_window_percentage_delayed']}", color='black', ha='right', va='bottom', fontsize=12)
plt.title('Total and Arrival Flights by Departure Time Window')
plt.ylabel('Number of Flights')
plt.xlabel('Arrival Time Window')
plt.xticks(rotation=45)
plt.legend(title='Flight Type', labels=['Delayed Flights', 'Total Flights'])
plt.show()





on_time_performance = flight_performance.calculate_on_time_performance()
flight_percentages = flight_performance.calculate_flight_percentages()

# Combine both DataFrames
combined_performance = pd.merge(on_time_performance, flight_percentages, on='Flight Category', how='left')
combined_performance


sns.set(style="whitegrid")
plt.figure(figsize=(10, 6))
sns.histplot(data=df, x='dep_delay', hue='flight_cat', kde=True, bins=50)
plt.xlim(0, 300)  # 300 minutes for better visualization
plt.title('Distribution of Departure Delays by Flight Category')
plt.xlabel('Departure Delay (minutes)')
plt.ylabel('Number of flights')
plt.show()





# Total volume of flights by airline
total_flights_airline = df.groupby('airline_name')['uuid'].count().reset_index()
total_flights_airline.columns = ['airline_name', 'total_flights']

# Delayed flights by airline
delayed_flights_airline = df[df['dep_delay_15'] == 1].groupby('airline_name')['uuid'].count().reset_index()
delayed_flights_airline.columns = ['airline_name', 'delayed_flights']

# Percentage of delayed flights
flights_summary = pd.merge(total_flights_airline, delayed_flights_airline, on='airline_name', how='left')
flights_summary['delayed_flights'] = flights_summary['delayed_flights'].fillna(0).astype(int)  # Handling NaNs
flights_summary['percent_delayed(%)'] = ((flights_summary['delayed_flights'] / flights_summary['total_flights']) * 100).round(2)

sorted_flights_summary = flights_summary.sort_values(by='percent_delayed(%)', ascending=False)

sns.set(style="whitegrid")
plt.figure(figsize=(20,7))
plt.bar(sorted_flights_summary['airline_name'], sorted_flights_summary['percent_delayed(%)'], color='skyblue')
plt.xticks(rotation=90, fontsize=4)
plt.xlabel('Airline')
plt.ylabel('Percentage of Delayed Flights (%)')
plt.title('Percentage of Delayed Flights by Airline')
plt.tight_layout()
plt.show()





analysis = AirlineDelays(df)

# Calculate and print average delays
average_delay_sorted = analysis.calculate_average_delay()
print(average_delay_sorted.head())
analysis.plot_top_delays(top_n=10) # Plot the top 10 average delays


























# Select the relevant columns for correlation analysis
corr_columns = ['total_flights', 'total_dep_delay', 'total_dep_delay_15', 'landed', 'active', 'scheduled', 'short_delay', 'medium_delay', 'long_delay', 'avg_temp', 'avg_dew', 'avg_humidity', 'total_precip', 'avg_wind_speed', 'avg_cloud_cover', 'avg_visibility', 'total_passengers']

corr_df = df_merged[corr_columns].dropna() # Drop any rows with NaN values
correlation_matrix = corr_df.corr() # Perform the correlation analysis

plt.figure(figsize=(10, 8))
sns.heatmap(correlation_matrix, annot=True, cmap='coolwarm', vmin=-1, vmax=1, annot_kws={"size": 8}) 
plt.title('Correlation Matrix')
plt.show()





df_merged['total_passengers'] = pd.to_numeric(df_merged['total_passengers'], errors='coerce') # Convert 'total_passengers' to numeric, forcing errors to NaN
numeric_df = df_merged.select_dtypes(include=['number'])

features_to_drop = ['total_flights', 'total_dep_delay_15', 'departures', 'arrivals']
df_reduced = numeric_df.drop(columns=features_to_drop)

multicollinearity = Multicollinearity(df_reduced)
target_variable = 'total_dep_delay'
df_vif = multicollinearity.remove_high_vif_features(target_variable)
multicollinearity.df = df_vif
final_vif = multicollinearity.calculate_vif() # Display the cleaned DataFrame and final VIF values

print("Final VIF values after feature removal:")
print(final_vif)





correlation_matrix = df_vif.corr()

plt.figure(figsize=(10, 8))
sns.heatmap(correlation_matrix, annot=True, fmt=".2f", cmap='coolwarm', square=True)
plt.title('Correlation Matrix')
plt.show()








# Split the data into features (X) and target (y)
X = df_vif.drop(columns=['total_dep_delay'])  # drop the target variable
y = df_vif['total_dep_delay']

# Split the dataset into training and testing sets (80% train, 20% test)
X_train, X_test, y_train, y_test = train_test_split(X, y, test_size=0.2, random_state=42)

model = LinearRegression() # Create a linear regression model
model.fit(X_train, y_train) # Fit the model on the training data
y_pred = model.predict(X_test) # Predict on the test data
mse = mean_squared_error(y_test, y_pred) # Evaluate the model
r2 = r2_score(y_test, y_pred)

print(f'Mean Squared Error: {mse:.2f}')
print(f'R^2 Score: {r2:.2f}')





plt.figure(figsize=(10, 6))
plt.scatter(y_test, y_pred, alpha=0.7)
plt.plot([y_test.min(), y_test.max()], [y_test.min(), y_test.max()], color='red', lw=2)  # Diagonal line
plt.title('Predicted vs Actual Values')
plt.xlabel('Actual Values')
plt.ylabel('Predicted Values')
plt.xlim(y_test.min(), y_test.max())
plt.ylim(y_test.min(), y_test.max())
plt.grid()
plt.show()





cv_scores = cross_val_score(model, X, y, cv=5, scoring='neg_mean_squared_error') # Perform 5-fold cross-validation
cv_rmse = (-cv_scores)**0.5 # Convert scores to positive values
print(f'Cross-validated RMSE: {cv_rmse.mean():.2f} +/- {cv_rmse.std():.2f}')





y_pred = model.predict(X_test) # Predicting using your model
mae = mean_absolute_error(y_test, y_pred) # Calculate other metrics
r2 = r2_score(y_test, y_pred)

print(f'Mean Absolute Error (MAE): {mae:.2f}')
print(f'R² Score: {r2:.2f}')





y_true = y_test
residuals = y_true - y_pred # Continue with residual analysis

# Plotting residuals
plt.figure(figsize=(10, 6))
plt.scatter(y_pred, residuals, alpha=0.5)
plt.axhline(0, color='red', linestyle='--')  # Add a line at zero
plt.title('Residuals vs Predicted Values')
plt.xlabel('Predicted Values')
plt.ylabel('Residuals')
plt.xlim(0, 20000)
plt.ylim(-max(abs(residuals)), max(abs(residuals)))
plt.grid()
plt.show()





# Box plot to identify outliers in the target variable
plt.figure(figsize=(10, 6))
sns.boxplot(x=df_vif['total_dep_delay'])  # Replace with your target variable
plt.title('Box Plot of Total Departure Delay')
plt.show()








df_after_adj = df_vif.copy() # Copy of the dataframe to avoid warning

df_after_adj['total_dep_delay'] = df_after_adj['total_dep_delay'].clip(upper=12000) # Cap the outliers at 12000
df_after_adj['log_total_dep_delay'] = np.log1p(df_after_adj['total_dep_delay']) # Log transformation of the total departure delay
df_after_adj['significant_delay'] = (df_after_adj['total_dep_delay'] > 15).astype(int) # New column to indicate delays (> 15 minutes)

plt.figure(figsize=(10, 6))
sns.boxplot(x=df_after_adj['total_dep_delay'])
plt.title('Boxplot of Total Departure Delay after Adjustments')
plt.show()





plt.figure(figsize=(10, 6))
sns.histplot(df_after_adj['log_total_dep_delay'], bins=30, kde=True)
plt.title('Histogram of Log-Transformed Total Departure Delay')
plt.show()








df_no_outliers = df_after_adj[df_after_adj['log_total_dep_delay'] >= 7]  # New dataframe without outliers

X_no_outliers = df_no_outliers.drop(columns=['total_dep_delay', 'log_total_dep_delay']) # Split data into features and target
y_no_outliers = df_no_outliers['log_total_dep_delay']

X_train, X_test, y_train, y_test = train_test_split(X, y, test_size=0.2, random_state=42) # Train-test split for both datasets
X_no_train, X_no_test, y_no_train, y_no_test = train_test_split(X_no_outliers, y_no_outliers, test_size=0.2, random_state=42)

model = RandomForestRegressor(n_estimators=100, random_state=42) # Fit model with outliers
model.fit(X_train, y_train)
predictions = model.predict(X_test)

mse_with_outliers = mean_squared_error(y_test, predictions) # To evaluate performance
mae_with_outliers = mean_absolute_error(y_test, predictions)
r2_with_outliers = r2_score(y_test, predictions)


model_no_outliers = RandomForestRegressor(n_estimators=100, random_state=42) # Fit model without outliers
model_no_outliers.fit(X_no_train, y_no_train)
predictions_no_outliers = model_no_outliers.predict(X_no_test)

mse_without_outliers = mean_squared_error(y_no_test, predictions_no_outliers) # To evaluate performance
mae_without_outliers = mean_absolute_error(y_no_test, predictions_no_outliers)
r2_without_outliers = r2_score(y_no_test, predictions_no_outliers)

print("With Outliers:")
print(f'MSE: {mse_with_outliers:.2f}, MAE: {mae_with_outliers:.2f}, R²: {r2_with_outliers:.2f}')
print("Without Outliers:")
print(f'MSE: {mse_without_outliers:.2f}, MAE: {mae_without_outliers:.2f}, R²: {r2_without_outliers:.2f}')





# Calculate residuals for both models
residuals_with_outliers = y_test - predictions
residuals_without_outliers = y_no_test - predictions_no_outliers

# Residuals for the model with outliers
plt.figure(figsize=(14, 6))

plt.subplot(1, 2, 1)
sns.scatterplot(x=predictions, y=residuals_with_outliers, alpha=0.7)
plt.axhline(y=0, color='red', linestyle='--')
plt.ylim(-1000,1000)
plt.title('Residuals with Outliers')
plt.xlabel('Predicted Values')
plt.ylabel('Residuals')

# Residuals for the model without outliers
plt.subplot(1, 2, 2)
sns.scatterplot(x=predictions_no_outliers, y=residuals_without_outliers, alpha=0.7)
plt.axhline(y=0, color='red', linestyle='--')
plt.ylim(-1000,1000)
plt.title('Residuals without Outliers')
plt.xlabel('Predicted Values')
plt.ylabel('Residuals')

plt.tight_layout()
plt.show()





original_predictions_no_outliers = np.exp(predictions_no_outliers) # Transform predictions back to original scale
#original_no_outliers = df_no_outliers['log_total_dep_delay'].to_numpy()
print("\nOriginal Predictions without Outliers:", original_predictions_no_outliers)
#print("\nOriginal without Outliers:", original_no_outliers)


total_dep_delay_array = df_vif['total_dep_delay'].to_numpy()

plt.figure(figsize=(12, 6))
plt.plot(predictions, label='Predictions (With Outliers)', color='grey')#, linestyle='--', marker='x', markersize=5)
plt.plot(original_predictions_no_outliers, label='Predictions (Without Outliers)', color='orange')#, linestyle=':', marker='s', markersize=5)
plt.title('Predictions with vs without Outliers')
plt.xlabel('Index of the Prediction Array')
plt.ylabel('Delayed Minutes')
plt.legend()
plt.grid()
plt.show()


plt.figure(figsize=(12, 6))
plt.hist(predictions, bins=30, alpha=0.5, label='With Outliers', color='orange')
plt.hist(original_predictions_no_outliers, bins=30, alpha=0.5, label='Without Outliers', color='grey')
plt.title('Histogram of Predictions')
plt.xlabel('Predicted Values (delayed minutes)')
plt.ylabel('Flights')
plt.legend()
plt.show()


plt.figure(figsize=(12, 6))
sns.boxplot(data=[predictions, original_predictions_no_outliers], palette='Set2')
plt.xticks([0, 1], ['With Outliers', 'Without Outliers'])
plt.title('Box Plot of Predictions')
plt.ylabel('Predicted Values (delayed minutes)')
plt.show()


total_dep_delay_array = df_vif['total_dep_delay'].to_numpy() # Convert the column with the total delayed minutes to a NumPy array

plt.figure(figsize=(12, 6))
plt.plot(actual_dep_delay_array, label='Actual Values', color='green', linewidth=2, marker='o', markersize=5)
#plt.plot(predictions, label='Predictions (With Outliers)', color='blue', linestyle='--', marker='x', markersize=5)
plt.plot(original_predictions_no_outliers, label='Predictions (Without Outliers)', color='orange', linestyle=':', marker='s', markersize=5)
plt.title('Actual vs Predicted Values')
plt.xlabel('Amount of Flights')
plt.ylabel('Delayed Minutes')
plt.legend()
plt.grid()
plt.show()











from sklearn.model_selection import GridSearchCV
from sklearn.ensemble import RandomForestRegressor
from sklearn.metrics import mean_squared_error, mean_absolute_error, r2_score
import numpy as np

# Parameter grid for Random Forest
param_grid = {
    'n_estimators': [100, 200, 300],  # Number of trees in the forest
    'max_depth': [None, 10, 20, 30],  # Maximum depth of the tree
    'min_samples_split': [2, 5, 10],  # Minimum number of samples required to split an internal node
    'min_samples_leaf': [1, 2, 4]     # Minimum number of samples required to be at a leaf node
}
rf = RandomForestRegressor(random_state=42) # Initialize RandomForestRegressor
grid_search = GridSearchCV(estimator=rf, param_grid=param_grid, cv=5, scoring='neg_mean_squared_error', n_jobs=-1, verbose=2) # Initialize GridSearchCV
grid_search.fit(X_no_train, y_no_train) # Fit grid search to the training data without outliers
print(f"Best Parameters: {grid_search.best_params_}")

best_rf = grid_search.best_estimator_ # Train the model using the best parameters
best_rf.fit(X_no_train, y_no_train)
best_predictions_no_outliers = best_rf.predict(X_no_test) # Predict using the test set (without outliers)

# Evaluate the tuned model performance on the test set (without outliers)
best_mse_without_outliers = mean_squared_error(y_no_test, best_predictions_no_outliers)
best_mae_without_outliers = mean_absolute_error(y_no_test, best_predictions_no_outliers)
best_r2_without_outliers = r2_score(y_no_test, best_predictions_no_outliers)

print("Tuned Model Without Outliers:")
print(f'MSE: {best_mse_without_outliers:.2f}, MAE: {best_mae_without_outliers:.2f}, R²: {best_r2_without_outliers:.2f}')


importances = model_no_outliers.feature_importances_
feature_names = X_no_train.columns

plt.figure(figsize=(10, 6))
sns.barplot(x=importances, y=feature_names)
plt.title('Feature Importance: Tuned Model Without Outliers')
plt.show()


importances = model_no_outliers.feature_importances_
print(importances)



