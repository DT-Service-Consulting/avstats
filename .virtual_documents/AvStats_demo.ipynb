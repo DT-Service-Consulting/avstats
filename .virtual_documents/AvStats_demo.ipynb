





from data_loader import DataLoader
from airline import NewFeatures, FlightPerformance, AirlineDelays
from imports import *


loader = DataLoader()
df = loader.dataframe
df.head()








# Check for missing values & duplicate rows based on uuid
missing_values = df.isna().sum().sum()
duplicate_rows = df[df.duplicated(subset='uuid', keep=False)]
print(f"Number of total duplicated rows: {len(duplicate_rows)}")
print(f"Number of total missing values: {missing_values}")
df.isnull().sum()


df.fillna({'dep_delay': 0}, inplace=True) # Missing values with 0 when the flight is not delayed

# Convert to datetime
datetime_columns = ['sat', 'sdt', 'aat', 'adt']
for col in datetime_columns:
    df[col] = pd.to_datetime(df[col])

# Fill missing 'adt' and 'aat' values based on their corresponding scheduled times and delays
df['adt'] = df['adt'].fillna(df['sdt'] + pd.to_timedelta(df['dep_delay'], unit='m'))
df['aat'] = df['aat'].fillna(df['sat'] + pd.to_timedelta(df['dep_delay'], unit='m'))
df['calc_sft'] = df['calc_sft'].fillna((df['sat'] - df['sdt']) / pd.Timedelta(minutes=1))
df['calc_aft'] = df['calc_aft'].fillna((df['aat'] - df['adt']) / pd.Timedelta(minutes=1))

df.fillna({'airline_iata_code': 'NONE', 'flight_iata_number': 'NONE'}, inplace=True) # Missing airline and flight information with 'NONE'
df.head(7)


print(df.isna().sum().sum()) # Prints amount of missing values





# New column dep_delay_15
df.loc[:, 'dep_delay_15'] = (df['dep_delay'] > 15).astype(int)
cols = list(df.columns) # Get the current list of columns
dep_delay_index = cols.index('dep_delay') # Find the index of dep_delay
cols.insert(dep_delay_index + 1, cols.pop(cols.index('dep_delay_15'))) # Move dep_delay_15 next to dep_delay
df = df[cols].copy() # Column rearrangement with .copy() to avoid SettingWithCopyWarning

# New column dep_delay_cat
df.loc[:, 'dep_delay_cat'] = pd.cut(df['dep_delay'], bins=[-float('inf'), 15, 60, float('inf')], labels=['Short', 'Medium', 'Long'])
cols = list(df.columns)
dep_delay_15_index = cols.index('dep_delay_15')
cols.insert(dep_delay_15_index + 1, cols.pop(cols.index('dep_delay_cat'))) 
df = df[cols].copy()  # Again, make sure to create a copy

# New column flight_cat using the Flight class's categorize_flight method
def categorize_flight(row):
    flight = NewFeatures(uuid=row['uuid'], dep_delay=row['dep_delay'], sdt=row['sdt'], sat=row['sat'], cargo=row['cargo'], private=row['private'])
    return flight.categorize_flight()

df.loc[:, 'flight_cat'] = df.apply(categorize_flight, axis=1)

# New column dep_time_window & arr_time_window using the Flight class's get_time_window method
def get_time_window_for_flight(row, time_type='departure'):
    flight = NewFeatures(uuid=row['uuid'], dep_delay=row['dep_delay'], sdt=row['sdt'], sat=row['sat'], cargo=row['cargo'], private=row['private'])
    return flight.get_time_window(time_type)

# Add new columns for departure and arrival time windows
df['dep_time_window'] = df.apply(lambda row: get_time_window_for_flight(row, 'departure'), axis=1)
df['arr_time_window'] = df.apply(lambda row: get_time_window_for_flight(row, 'arrival'), axis=1)

# Create a new column for on-time flights
df.loc[:, 'on_time_15'] = df['dep_delay'].map(lambda x: 1 if x < 15 else 0)

df.head(20)








flight_performance = FlightPerformance(df) # Create an instance of FlightAnalysis
status_df = flight_performance.get_status_summary() # Get the status summary DataFrame
status_df


status_summary = flight_performance.get_status_summary()
status_proportions = status_summary['Proportions (%)']  # Extract status proportions for plotting

sns.set(style="whitegrid")
plt.figure(figsize=(6, 6))
plt.pie(status_proportions, labels=status_summary['Status'], autopct='%1.1f%%', startangle=50)
plt.title('Proportion of Different Status Types')
plt.show()





percentages = flight_performance.overall_performance() # Calculate overall performance
print("Overall Flight Performance Percentage\n")
for label, percent in percentages.items():
    print(f"{label}: {percent:.2f}%")

# Define delay ranges and labels
delay_ranges = [
    (0, 60, "0 - 60 minutes"),
    (60, 120, "60 - 120 minutes"),
    (120, 180, "120 - 180 minutes"),
    (180, None, "over 180 minutes")
]

delay_percentages = flight_performance.delayed_flight_percentages(delay_ranges) # Calculate and print delay percentages for each range
print("\nPercentage of Delayed Flights\n")
for label, percent in delay_percentages.items():
    print(f"Between {label}: {percent:.2f}%")


sns.set(style="whitegrid")
plt.figure(figsize=(12, 6))

plt.subplot(1, 2, 1) # Distribution of dep_delay
sns.histplot(df['dep_delay'], bins=30, kde=True)  # kde=True adds a smooth curve
plt.title('Distribution of Departure Delays')
plt.xlabel('dep_delay (min.)')
plt.ylabel('Number of Flights')
plt.xlim(0, 200) 

plt.subplot(1, 2, 2) # Distribution of dep_delay_15 
sns.histplot(df['dep_delay_15'], bins=2, kde=False)  # Binary values (0 and 1)
plt.title('Distribution of Delayed or Not')
plt.xlabel('dep_delay_15 (binary)')
plt.ylabel('Number of Flights')
plt.xticks(ticks=[0, 1], labels=['Not Delayed (<15 min.)', 'Delayed (>15 min.)'])

plt.tight_layout()
plt.show()





dep_flight_summary = flight_performance.flight_summary_by_time_window('dep_time_window', summarize_delays=True)
time_window_proportions = flight_performance.calculate_time_window_percentages()
time_window_proportions


dep_flight_summary = flight_performance.flight_summary_by_time_window('dep_time_window', summarize_delays=True)
arr_flight_summary = flight_performance.flight_summary_by_time_window('arr_time_window', summarize_delays=True)
dep_flight_summary


arr_flight_summary


# New df for the bar plots
dep_bar_data = pd.melt(dep_flight_summary, id_vars='dep_time_window', value_vars=['delayed_flights', 'total_flights'],var_name='flight_type', value_name='count')
arr_bar_data = pd.melt(arr_flight_summary, id_vars='arr_time_window', value_vars=['delayed_flights', 'total_flights'],var_name='flight_type', value_name='count')

# Shift left for delayed flights and right for total flights
dep_bar_data['position'] = dep_bar_data['flight_type'].map({'delayed_flights': -0.2, 'total_flights': 0.2})
arr_bar_data['position'] = arr_bar_data['flight_type'].map({'delayed_flights': -0.2, 'total_flights': 0.2})

# Plot for Total and Delayed Arrival Flights
plt.figure(figsize=(10, 6))
ax=sns.barplot(data=dep_bar_data, x='dep_time_window', y='count', hue='flight_type', dodge=True, palette=['#35b779', '#31688e'])
for index, row in dep_flight_summary.iterrows():
    if row['delayed_flights'] > 0:  # Only display if there are delayed flights
        ax.text(index, row['delayed_flights'], f"{row['dep_time_window_percentage_delayed']}", color='black', ha='right', va='bottom', fontsize=12)
plt.title('Total and Delayed Flights by Departure Time Window')
plt.ylabel('Number of Flights')
plt.xlabel('Departure Time Window')
plt.xticks(rotation=45)
plt.legend(title='Flight Type', labels=['Delayed Flights', 'Total Flights'])
plt.show()

# Plot for Total and Delayed Departure Flights
plt.figure(figsize=(10, 6))
bx=sns.barplot(data=arr_bar_data, x='arr_time_window', y='count', hue='flight_type', dodge=True, palette=['#35b779', '#31688e'])
for index, row in arr_flight_summary.iterrows():
    if row['delayed_flights'] > 0:  # Only display if there are delayed flights
        bx.text(index, row['delayed_flights'], f"{row['arr_time_window_percentage_delayed']}", color='black', ha='right', va='bottom', fontsize=12)
plt.title('Total and Arrival Flights by Departure Time Window')
plt.ylabel('Number of Flights')
plt.xlabel('Arrival Time Window')
plt.xticks(rotation=45)
plt.legend(title='Flight Type', labels=['Delayed Flights', 'Total Flights'])
plt.show()





on_time_performance = flight_performance.calculate_on_time_performance()
flight_percentages = flight_performance.calculate_flight_percentages()

# Combine both DataFrames
combined_performance = pd.merge(on_time_performance, flight_percentages, on='Flight Category', how='left')
combined_performance


sns.set(style="whitegrid")
plt.figure(figsize=(10, 6))
sns.histplot(data=df, x='dep_delay', hue='flight_cat', kde=True, bins=50)
plt.xlim(0, 300)  # 300 minutes for better visualization
plt.title('Distribution of Departure Delays by Flight Category')
plt.xlabel('Departure Delay (minutes)')
plt.ylabel('Number of flights')
plt.show()





# Total volume of flights by airline
total_flights_airline = df.groupby('airline_name')['uuid'].count().reset_index()
total_flights_airline.columns = ['airline_name', 'total_flights']

# Delayed flights by airline
delayed_flights_airline = df[df['dep_delay_15'] == 1].groupby('airline_name')['uuid'].count().reset_index()
delayed_flights_airline.columns = ['airline_name', 'delayed_flights']

# Percentage of delayed flights
flights_summary = pd.merge(total_flights_airline, delayed_flights_airline, on='airline_name', how='left')
flights_summary['delayed_flights'] = flights_summary['delayed_flights'].fillna(0).astype(int)  # Handling NaNs
flights_summary['percent_delayed(%)'] = ((flights_summary['delayed_flights'] / flights_summary['total_flights']) * 100).round(2)

sorted_flights_summary = flights_summary.sort_values(by='percent_delayed(%)', ascending=False)

sns.set(style="whitegrid")
plt.figure(figsize=(20,7))
plt.bar(sorted_flights_summary['airline_name'], sorted_flights_summary['percent_delayed(%)'], color='skyblue')
plt.xticks(rotation=90, fontsize=4)
plt.xlabel('Airline')
plt.ylabel('Percentage of Delayed Flights (%)')
plt.title('Percentage of Delayed Flights by Airline')
plt.tight_layout()
plt.show()





analysis = AirlineDelays(df)

# Calculate and print average delays
average_delay_sorted = analysis.calculate_average_delay()
print(average_delay_sorted.head())
analysis.plot_top_delays(top_n=10) # Plot the top 10 average delays











sample = df['dep_delay'].sample(5000, random_state=42) # Random sample of 5000 rows

# Shapiro-Wilk test
stat, p_value = stats.shapiro(sample)
print(f'Statistic={stat}, p-value={p_value}')
if p_value > 0.05:
    print("Sampled data is normally distributed.")
else:
    print("Sampled data is not normally distributed.")


stats.probplot(df['dep_delay'], dist="norm", plot=plt)
plt.title("Q-Q Plot for Departure Delay")
plt.show()








# Select the relevant columns for encoding
columns_of_interest = ['type', 'status', 'flight_cat', 'dep_time_window']

# Filter the DataFrame to include only those columns
df_selected = df[columns_of_interest]

# Apply one-hot encoding to these columns
df_encoded = pd.get_dummies(df_selected, drop_first=True)

# Check for the additional columns in the original DataFrame
additional_columns = ['dep_delay', 'dep_delay_15', 'calc_sft', 'calc_aft', 
                      'calc_flight_distance_km', 'on_time_15']

# Ensure the additional columns exist in the original DataFrame
for col in additional_columns:
    if col not in df.columns:
        print(f"Column '{col}' not found in the original DataFrame.")

# Combine the encoded DataFrame with the additional columns from the original DataFrame
df_combined = pd.concat([df_encoded, df[additional_columns]], axis=1)

# Create a DataFrame with only the selected columns
selected_columns = ['dep_delay', 'dep_delay_15', 'calc_sft', 'calc_aft', 
                    'calc_flight_distance_km', 'on_time_15', 
                    'type_DEPARTURE', 'status_DIVERTED', 'status_LANDED', 
                    'status_SCHEDULED', 'flight_cat_Commercial', 
                    'flight_cat_Private', 'dep_time_window_Evening', 
                    'dep_time_window_Morning']

# Filter the combined DataFrame to include only the selected columns
df_final = df_combined[selected_columns]

# Calculate the correlation matrix for the selected columns
correlation_matrix = df_final.corr()

# Plot the correlation matrix
plt.figure(figsize=(12, 10))
plt.title('Correlation Matrix for Selected Features')
sns.heatmap(correlation_matrix, annot=True, cmap="coolwarm", fmt='.2f', linewidths=0.5)
plt.show()



numerical_columns = ['dep_delay', 'dep_delay_15', 'calc_sft', 'calc_aft', 'calc_flight_distance_km','on_time_15'] # Selecting only the numerical columns
corr_matrix = df[numerical_columns].corr() # Creating the correlation matrix

plt.figure(figsize=(10, 8))
sns.heatmap(corr_matrix, annot=True, cmap="coolwarm", linewidths=0.5)
plt.title('Correlation Matrix')
plt.show()





X = df[['calc_sft', 'calc_aft', 'calc_flight_distance_km', 'dep_delay', 'dep_delay_15', 'on_time_15']] # Select relevant features for VIF calculation

vif_data = pd.DataFrame()
vif_data["feature"] = X.columns # Calculate VIF for each feature
vif_data["VIF"] = [variance_inflation_factor(X.values, i) for i in range(len(X.columns))]
print(vif_data)





features = ['dep_delay', 'dep_delay_15', 'on_time_15']
x = df[features] # New dataframe with the selected features
x = sm.add_constant(x) # Add a constant term for the intercept

# Function to calculate VIF
def calculate_vif(x):
    vif_data = pd.DataFrame()
    vif_data['feature'] = x.columns
    vif_data['VIF'] = [variance_inflation_factor(x.values, i) for i in range(x.shape[1])]
    return vif_data

vif_initial = calculate_vif(x)# Calculate initial VIF
print("Initial VIF:")
print(vif_initial)

x_reduced = df[['dep_delay', 'on_time_15']]  # If high VIFs, remove one of the  features
x_reduced = sm.add_constant(x_reduced) # Add a constant term again

vif_reduced = calculate_vif(x_reduced) # Recalculate VIF
print("\nReduced VIF after removing dep_delay_15:")
print(vif_reduced)

model = sm.OLS(df['dep_delay_15'], x_reduced).fit()  # Fit the updated model with your actual dependent variable
print("\nModel Summary:")
print(model.summary())








observed_counts = [flight_performance.count_delayed_flights(lower, upper) for lower, upper, _ in delay_ranges] # Observed counts of delayed flights in each range
total_observed_counts = sum(observed_counts) # Calculate the total observed counts

if total_observed_counts == 0:
    print("No delayed flights were observed. Cannot perform chi-squared test.")
else:
    expected_counts = [total_observed_counts / len(delay_ranges)] * len(delay_ranges) # Expected counts: Equal distribution across ranges based on observed counts
    chi2_stat, p_value = stats.chisquare(f_obs=observed_counts, f_exp=expected_counts) # Perform the chi-squared test

    print(f"Chi-squared Statistic: {chi2_stat:.4f}")
    print(f"P-value: {p_value:.4f}")

    if p_value < 0.05:
        print("The differences in delay ranges are statistically significant (p < 0.05).")
    else:
        print("The differences in delay ranges are not statistically significant (p ≥ 0.05).")





# Residual Analysis
residuals = model.resid
fitted = model.fittedvalues # Extract residuals and fitted values
plt.figure(figsize=(12, 6))
sns.scatterplot(x=fitted, y=residuals)
plt.axhline(0, linestyle='--', color='red')
plt.title('Residuals vs Fitted')
plt.xlabel('Fitted Values')
plt.ylabel('Residuals')
plt.show()

# Q-Q Plot for Normality
plt.figure(figsize=(12, 6))
sm.qqplot(residuals, line='s', ax=plt.gca())
plt.title('Q-Q Plot of Residuals')
plt.show()

# Histogram of Residuals
plt.figure(figsize=(12, 6))
sns.histplot(residuals, kde=True, bins=30)
plt.title('Histogram of Residuals')
plt.xlabel('Residuals')
plt.ylabel('Frequency')
plt.show()

shapiro_test = stats.shapiro(residuals) # Shapiro-Wilk Test for Normality
print(f"\nShapiro-Wilk Test: Statistic={shapiro_test.statistic}, p-value={shapiro_test.pvalue}")

# Durbin-Watson Test for Autocorrelation
dw_statistic = durbin_watson(residuals)
print(f"\nDurbin-Watson statistic: {dw_statistic}")

# Interpretation of tests
if shapiro_test.pvalue < 0.05:
    print("Residuals are not normally distributed (reject H0).")
else:
    print("Residuals are normally distributed (fail to reject H0).")

if dw_statistic < 1.5:
    print("Positive autocorrelation (DW < 1.5).")
elif dw_statistic > 2.5:
    print("Negative autocorrelation (DW > 2.5).")
else:
    print("No autocorrelation (DW between 1.5 and 2.5).")






